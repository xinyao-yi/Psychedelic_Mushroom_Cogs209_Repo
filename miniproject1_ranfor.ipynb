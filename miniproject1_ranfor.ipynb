{
 "cells": [
  {
   "cell_type": "code",
   "execution_count": 17,
   "id": "0702b50c",
   "metadata": {},
   "outputs": [],
   "source": [
    "from sklearn.model_selection import train_test_split\n",
    "from sklearn.ensemble import RandomForestClassifier\n",
    "from sklearn.linear_model import LogisticRegression\n",
    "import numpy as np\n",
    "import matplotlib.pyplot as plt\n"
   ]
  },
  {
   "cell_type": "code",
   "execution_count": 2,
   "id": "00db6b90",
   "metadata": {},
   "outputs": [
    {
     "data": {
      "text/html": [
       "<div>\n",
       "<style scoped>\n",
       "    .dataframe tbody tr th:only-of-type {\n",
       "        vertical-align: middle;\n",
       "    }\n",
       "\n",
       "    .dataframe tbody tr th {\n",
       "        vertical-align: top;\n",
       "    }\n",
       "\n",
       "    .dataframe thead th {\n",
       "        text-align: right;\n",
       "    }\n",
       "</style>\n",
       "<table border=\"1\" class=\"dataframe\">\n",
       "  <thead>\n",
       "    <tr style=\"text-align: right;\">\n",
       "      <th></th>\n",
       "      <th>CASEID_7139</th>\n",
       "      <th>COHORTS</th>\n",
       "      <th>PYS_USE_VENN</th>\n",
       "      <th>PSY_USE_YN</th>\n",
       "      <th>PM_USE_YN</th>\n",
       "      <th>PM_USE_ONLY_YN</th>\n",
       "      <th>PM_VS_PSY_YN</th>\n",
       "      <th>SEX</th>\n",
       "      <th>AGE</th>\n",
       "      <th>ETHNICITY</th>\n",
       "      <th>...</th>\n",
       "      <th>PSY2_UNDIAG_CONCERN</th>\n",
       "      <th>PSY2_NO_KNOWLEDGE</th>\n",
       "      <th>PM1_GEN_HEALTH</th>\n",
       "      <th>PM1_DIAG_CONDITION</th>\n",
       "      <th>PM1_UNDIAG_CONCERN</th>\n",
       "      <th>PM2_FREQ_COVID</th>\n",
       "      <th>PM3_FREQ_POLITICS</th>\n",
       "      <th>PM4_CARE</th>\n",
       "      <th>INSURANCE</th>\n",
       "      <th>DATA_WEIGHT</th>\n",
       "    </tr>\n",
       "  </thead>\n",
       "  <tbody>\n",
       "    <tr>\n",
       "      <th>0</th>\n",
       "      <td>1</td>\n",
       "      <td>1.0</td>\n",
       "      <td>1.0</td>\n",
       "      <td>1.0</td>\n",
       "      <td>1.0</td>\n",
       "      <td>1.0</td>\n",
       "      <td>2.0</td>\n",
       "      <td>0</td>\n",
       "      <td>19.0</td>\n",
       "      <td>3.0</td>\n",
       "      <td>...</td>\n",
       "      <td>0</td>\n",
       "      <td>0</td>\n",
       "      <td>1</td>\n",
       "      <td>0</td>\n",
       "      <td>0</td>\n",
       "      <td>2</td>\n",
       "      <td>3</td>\n",
       "      <td>0</td>\n",
       "      <td>0</td>\n",
       "      <td>57772.54</td>\n",
       "    </tr>\n",
       "    <tr>\n",
       "      <th>1</th>\n",
       "      <td>2</td>\n",
       "      <td>1.0</td>\n",
       "      <td>1.0</td>\n",
       "      <td>1.0</td>\n",
       "      <td>1.0</td>\n",
       "      <td>1.0</td>\n",
       "      <td>2.0</td>\n",
       "      <td>0</td>\n",
       "      <td>21.0</td>\n",
       "      <td>2.0</td>\n",
       "      <td>...</td>\n",
       "      <td>1</td>\n",
       "      <td>0</td>\n",
       "      <td>1</td>\n",
       "      <td>0</td>\n",
       "      <td>0</td>\n",
       "      <td>3</td>\n",
       "      <td>3</td>\n",
       "      <td>0</td>\n",
       "      <td>1</td>\n",
       "      <td>25738.42</td>\n",
       "    </tr>\n",
       "    <tr>\n",
       "      <th>2</th>\n",
       "      <td>3</td>\n",
       "      <td>1.0</td>\n",
       "      <td>1.0</td>\n",
       "      <td>1.0</td>\n",
       "      <td>1.0</td>\n",
       "      <td>1.0</td>\n",
       "      <td>2.0</td>\n",
       "      <td>0</td>\n",
       "      <td>22.0</td>\n",
       "      <td>2.0</td>\n",
       "      <td>...</td>\n",
       "      <td>1</td>\n",
       "      <td>0</td>\n",
       "      <td>0</td>\n",
       "      <td>0</td>\n",
       "      <td>0</td>\n",
       "      <td>3</td>\n",
       "      <td>4</td>\n",
       "      <td>0</td>\n",
       "      <td>0</td>\n",
       "      <td>42172.56</td>\n",
       "    </tr>\n",
       "    <tr>\n",
       "      <th>3</th>\n",
       "      <td>4</td>\n",
       "      <td>1.0</td>\n",
       "      <td>1.0</td>\n",
       "      <td>1.0</td>\n",
       "      <td>1.0</td>\n",
       "      <td>1.0</td>\n",
       "      <td>2.0</td>\n",
       "      <td>0</td>\n",
       "      <td>22.0</td>\n",
       "      <td>2.0</td>\n",
       "      <td>...</td>\n",
       "      <td>0</td>\n",
       "      <td>0</td>\n",
       "      <td>1</td>\n",
       "      <td>0</td>\n",
       "      <td>0</td>\n",
       "      <td>3</td>\n",
       "      <td>3</td>\n",
       "      <td>0</td>\n",
       "      <td>1</td>\n",
       "      <td>28356.81</td>\n",
       "    </tr>\n",
       "    <tr>\n",
       "      <th>4</th>\n",
       "      <td>5</td>\n",
       "      <td>1.0</td>\n",
       "      <td>1.0</td>\n",
       "      <td>1.0</td>\n",
       "      <td>1.0</td>\n",
       "      <td>1.0</td>\n",
       "      <td>2.0</td>\n",
       "      <td>0</td>\n",
       "      <td>23.0</td>\n",
       "      <td>2.0</td>\n",
       "      <td>...</td>\n",
       "      <td>1</td>\n",
       "      <td>0</td>\n",
       "      <td>1</td>\n",
       "      <td>0</td>\n",
       "      <td>0</td>\n",
       "      <td>3</td>\n",
       "      <td>3</td>\n",
       "      <td>0</td>\n",
       "      <td>1</td>\n",
       "      <td>25738.42</td>\n",
       "    </tr>\n",
       "    <tr>\n",
       "      <th>...</th>\n",
       "      <td>...</td>\n",
       "      <td>...</td>\n",
       "      <td>...</td>\n",
       "      <td>...</td>\n",
       "      <td>...</td>\n",
       "      <td>...</td>\n",
       "      <td>...</td>\n",
       "      <td>...</td>\n",
       "      <td>...</td>\n",
       "      <td>...</td>\n",
       "      <td>...</td>\n",
       "      <td>...</td>\n",
       "      <td>...</td>\n",
       "      <td>...</td>\n",
       "      <td>...</td>\n",
       "      <td>...</td>\n",
       "      <td>...</td>\n",
       "      <td>...</td>\n",
       "      <td>...</td>\n",
       "      <td>...</td>\n",
       "      <td>...</td>\n",
       "    </tr>\n",
       "    <tr>\n",
       "      <th>7134</th>\n",
       "      <td>7135</td>\n",
       "      <td>-99.0</td>\n",
       "      <td>2.0</td>\n",
       "      <td>1.0</td>\n",
       "      <td>1.0</td>\n",
       "      <td>0.0</td>\n",
       "      <td>2.0</td>\n",
       "      <td>1</td>\n",
       "      <td>60.0</td>\n",
       "      <td>2.0</td>\n",
       "      <td>...</td>\n",
       "      <td>1</td>\n",
       "      <td>0</td>\n",
       "      <td>0</td>\n",
       "      <td>0</td>\n",
       "      <td>0</td>\n",
       "      <td>3</td>\n",
       "      <td>3</td>\n",
       "      <td>0</td>\n",
       "      <td>1</td>\n",
       "      <td>59464.33</td>\n",
       "    </tr>\n",
       "    <tr>\n",
       "      <th>7135</th>\n",
       "      <td>7136</td>\n",
       "      <td>-99.0</td>\n",
       "      <td>3.0</td>\n",
       "      <td>1.0</td>\n",
       "      <td>0.0</td>\n",
       "      <td>0.0</td>\n",
       "      <td>1.0</td>\n",
       "      <td>1</td>\n",
       "      <td>64.0</td>\n",
       "      <td>1.0</td>\n",
       "      <td>...</td>\n",
       "      <td>0</td>\n",
       "      <td>1</td>\n",
       "      <td>-99</td>\n",
       "      <td>-99</td>\n",
       "      <td>-99</td>\n",
       "      <td>-99</td>\n",
       "      <td>-99</td>\n",
       "      <td>-99</td>\n",
       "      <td>1</td>\n",
       "      <td>15186.20</td>\n",
       "    </tr>\n",
       "    <tr>\n",
       "      <th>7136</th>\n",
       "      <td>7137</td>\n",
       "      <td>-99.0</td>\n",
       "      <td>3.0</td>\n",
       "      <td>1.0</td>\n",
       "      <td>0.0</td>\n",
       "      <td>0.0</td>\n",
       "      <td>1.0</td>\n",
       "      <td>1</td>\n",
       "      <td>64.0</td>\n",
       "      <td>2.0</td>\n",
       "      <td>...</td>\n",
       "      <td>0</td>\n",
       "      <td>0</td>\n",
       "      <td>-99</td>\n",
       "      <td>-99</td>\n",
       "      <td>-99</td>\n",
       "      <td>-99</td>\n",
       "      <td>-99</td>\n",
       "      <td>-99</td>\n",
       "      <td>1</td>\n",
       "      <td>57633.55</td>\n",
       "    </tr>\n",
       "    <tr>\n",
       "      <th>7137</th>\n",
       "      <td>7138</td>\n",
       "      <td>-99.0</td>\n",
       "      <td>2.0</td>\n",
       "      <td>1.0</td>\n",
       "      <td>1.0</td>\n",
       "      <td>0.0</td>\n",
       "      <td>2.0</td>\n",
       "      <td>1</td>\n",
       "      <td>67.0</td>\n",
       "      <td>2.0</td>\n",
       "      <td>...</td>\n",
       "      <td>0</td>\n",
       "      <td>0</td>\n",
       "      <td>1</td>\n",
       "      <td>0</td>\n",
       "      <td>0</td>\n",
       "      <td>1</td>\n",
       "      <td>1</td>\n",
       "      <td>1</td>\n",
       "      <td>1</td>\n",
       "      <td>43895.51</td>\n",
       "    </tr>\n",
       "    <tr>\n",
       "      <th>7138</th>\n",
       "      <td>7139</td>\n",
       "      <td>-99.0</td>\n",
       "      <td>2.0</td>\n",
       "      <td>1.0</td>\n",
       "      <td>1.0</td>\n",
       "      <td>0.0</td>\n",
       "      <td>2.0</td>\n",
       "      <td>1</td>\n",
       "      <td>67.0</td>\n",
       "      <td>3.0</td>\n",
       "      <td>...</td>\n",
       "      <td>1</td>\n",
       "      <td>0</td>\n",
       "      <td>1</td>\n",
       "      <td>0</td>\n",
       "      <td>0</td>\n",
       "      <td>3</td>\n",
       "      <td>3</td>\n",
       "      <td>0</td>\n",
       "      <td>1</td>\n",
       "      <td>44888.89</td>\n",
       "    </tr>\n",
       "  </tbody>\n",
       "</table>\n",
       "<p>7139 rows × 57 columns</p>\n",
       "</div>"
      ],
      "text/plain": [
       "      CASEID_7139  COHORTS  PYS_USE_VENN  PSY_USE_YN  PM_USE_YN  \\\n",
       "0               1      1.0           1.0         1.0        1.0   \n",
       "1               2      1.0           1.0         1.0        1.0   \n",
       "2               3      1.0           1.0         1.0        1.0   \n",
       "3               4      1.0           1.0         1.0        1.0   \n",
       "4               5      1.0           1.0         1.0        1.0   \n",
       "...           ...      ...           ...         ...        ...   \n",
       "7134         7135    -99.0           2.0         1.0        1.0   \n",
       "7135         7136    -99.0           3.0         1.0        0.0   \n",
       "7136         7137    -99.0           3.0         1.0        0.0   \n",
       "7137         7138    -99.0           2.0         1.0        1.0   \n",
       "7138         7139    -99.0           2.0         1.0        1.0   \n",
       "\n",
       "      PM_USE_ONLY_YN  PM_VS_PSY_YN  SEX   AGE  ETHNICITY  ...  \\\n",
       "0                1.0           2.0    0  19.0        3.0  ...   \n",
       "1                1.0           2.0    0  21.0        2.0  ...   \n",
       "2                1.0           2.0    0  22.0        2.0  ...   \n",
       "3                1.0           2.0    0  22.0        2.0  ...   \n",
       "4                1.0           2.0    0  23.0        2.0  ...   \n",
       "...              ...           ...  ...   ...        ...  ...   \n",
       "7134             0.0           2.0    1  60.0        2.0  ...   \n",
       "7135             0.0           1.0    1  64.0        1.0  ...   \n",
       "7136             0.0           1.0    1  64.0        2.0  ...   \n",
       "7137             0.0           2.0    1  67.0        2.0  ...   \n",
       "7138             0.0           2.0    1  67.0        3.0  ...   \n",
       "\n",
       "      PSY2_UNDIAG_CONCERN  PSY2_NO_KNOWLEDGE  PM1_GEN_HEALTH  \\\n",
       "0                       0                  0               1   \n",
       "1                       1                  0               1   \n",
       "2                       1                  0               0   \n",
       "3                       0                  0               1   \n",
       "4                       1                  0               1   \n",
       "...                   ...                ...             ...   \n",
       "7134                    1                  0               0   \n",
       "7135                    0                  1             -99   \n",
       "7136                    0                  0             -99   \n",
       "7137                    0                  0               1   \n",
       "7138                    1                  0               1   \n",
       "\n",
       "      PM1_DIAG_CONDITION  PM1_UNDIAG_CONCERN  PM2_FREQ_COVID  \\\n",
       "0                      0                   0               2   \n",
       "1                      0                   0               3   \n",
       "2                      0                   0               3   \n",
       "3                      0                   0               3   \n",
       "4                      0                   0               3   \n",
       "...                  ...                 ...             ...   \n",
       "7134                   0                   0               3   \n",
       "7135                 -99                 -99             -99   \n",
       "7136                 -99                 -99             -99   \n",
       "7137                   0                   0               1   \n",
       "7138                   0                   0               3   \n",
       "\n",
       "      PM3_FREQ_POLITICS  PM4_CARE  INSURANCE  DATA_WEIGHT  \n",
       "0                     3         0          0     57772.54  \n",
       "1                     3         0          1     25738.42  \n",
       "2                     4         0          0     42172.56  \n",
       "3                     3         0          1     28356.81  \n",
       "4                     3         0          1     25738.42  \n",
       "...                 ...       ...        ...          ...  \n",
       "7134                  3         0          1     59464.33  \n",
       "7135                -99       -99          1     15186.20  \n",
       "7136                -99       -99          1     57633.55  \n",
       "7137                  1         1          1     43895.51  \n",
       "7138                  3         0          1     44888.89  \n",
       "\n",
       "[7139 rows x 57 columns]"
      ]
     },
     "execution_count": 2,
     "metadata": {},
     "output_type": "execute_result"
    }
   ],
   "source": [
    "import pandas as pd\n",
    "\n",
    "# Load the dataset into a pandas dataframe\n",
    "df = pd.read_csv('AHRI_DATASET_PM_MANUSCRIPT_DATA.csv')\n",
    "df\n"
   ]
  },
  {
   "cell_type": "code",
   "execution_count": 3,
   "id": "c09df446",
   "metadata": {},
   "outputs": [
    {
     "data": {
      "text/plain": [
       "Index(['CASEID_7139', 'COHORTS', 'PYS_USE_VENN', 'PSY_USE_YN', 'PM_USE_YN',\n",
       "       'PM_USE_ONLY_YN', 'PM_VS_PSY_YN', 'SEX', 'AGE', 'ETHNICITY', 'HLS_YN',\n",
       "       'REGION', 'ED', 'EMPL', 'INCOME', 'BMI', 'C_TOTAL', 'C_DP', 'C_ANX',\n",
       "       'C_PN', 'C_ALL', 'C_MI', 'C_INSOM', 'C_HYP', 'C_DH', 'C_SA', 'C_GERD',\n",
       "       'C_CS', 'C_LIP', 'CCI_SCORE', 'GAD7_SCORE', 'PHQ9_SCORE', 'GAD7_GE10',\n",
       "       'PHQ9_GE10', 'PCS12', 'MCS12', 'VR6D', 'RU_PCP_YN', 'RU_SPECIAL_YN',\n",
       "       'RU_OTPCP_YN', 'RU_UCC_YN', 'RU_OUTPT_YN', 'RU_ER_YN', 'RU_HSP_YN',\n",
       "       'PSY1_POSITIVE_USE', 'PSY2_GEN_HEALTH', 'PSY2_DIAG_CONDITION',\n",
       "       'PSY2_UNDIAG_CONCERN', 'PSY2_NO_KNOWLEDGE', 'PM1_GEN_HEALTH',\n",
       "       'PM1_DIAG_CONDITION', 'PM1_UNDIAG_CONCERN', 'PM2_FREQ_COVID',\n",
       "       'PM3_FREQ_POLITICS', 'PM4_CARE', 'INSURANCE', 'DATA_WEIGHT'],\n",
       "      dtype='object')"
      ]
     },
     "execution_count": 3,
     "metadata": {},
     "output_type": "execute_result"
    }
   ],
   "source": [
    "df.COHORTS.value_counts()\n",
    "\n",
    "df.columns\n"
   ]
  },
  {
   "cell_type": "code",
   "execution_count": 4,
   "id": "8a7afebe",
   "metadata": {},
   "outputs": [],
   "source": [
    "def labelize(cohort):\n",
    "    if cohort == 0:\n",
    "        return 0\n",
    "    else:\n",
    "        return 1\n",
    "df['label'] = df['COHORTS'].apply(labelize)"
   ]
  },
  {
   "cell_type": "code",
   "execution_count": 5,
   "id": "12374aa5",
   "metadata": {},
   "outputs": [
    {
     "data": {
      "text/plain": [
       "0    6613\n",
       "1     526\n",
       "Name: label, dtype: int64"
      ]
     },
     "execution_count": 5,
     "metadata": {},
     "output_type": "execute_result"
    }
   ],
   "source": [
    "df.label.value_counts()\n"
   ]
  },
  {
   "cell_type": "code",
   "execution_count": 6,
   "id": "63998faa",
   "metadata": {},
   "outputs": [
    {
     "data": {
      "text/plain": [
       "0       0.0\n",
       "1       0.0\n",
       "2       0.0\n",
       "3       0.0\n",
       "4       1.0\n",
       "       ... \n",
       "7134    0.0\n",
       "7135    0.0\n",
       "7136    0.0\n",
       "7137    0.0\n",
       "7138    0.0\n",
       "Name: EMPL, Length: 7139, dtype: float64"
      ]
     },
     "execution_count": 6,
     "metadata": {},
     "output_type": "execute_result"
    }
   ],
   "source": [
    "df.EMPL"
   ]
  },
  {
   "cell_type": "code",
   "execution_count": 50,
   "id": "c11bec61",
   "metadata": {},
   "outputs": [
    {
     "name": "stdout",
     "output_type": "stream",
     "text": [
      "Accuracy: 0.9586834733893558\n",
      "[[5286    0]\n",
      " [   0  425]]\n"
     ]
    },
    {
     "data": {
      "image/png": "[encoded data removed]",
      "text/plain": [
       "<Figure size 216x216 with 1 Axes>"
      ]
     },
     "metadata": {
      "needs_background": "light"
     },
     "output_type": "display_data"
    }
   ],
   "source": [
    "X = df[['SEX', 'AGE', 'ETHNICITY', 'HLS_YN','REGION', 'INSURANCE',\n",
    "        'PM2_FREQ_COVID','PM3_FREQ_POLITICS',\n",
    "        'PSY1_POSITIVE_USE', 'PSY2_GEN_HEALTH', 'PSY2_DIAG_CONDITION', 'PSY2_UNDIAG_CONCERN', 'PSY2_NO_KNOWLEDGE']]\n",
    "y = df['label']\n",
    "\n",
    "# Split data into training and testing sets\n",
    "X_train, X_test, y_train, y_test = train_test_split(X, y, test_size=0.2, random_state=42)\n",
    "\n",
    "# # Fit a random forest model\n",
    "rf = RandomForestClassifier(n_estimators=100, random_state=42)\n",
    "rf.fit(X_train, y_train)\n",
    "\n",
    "\n",
    "\n",
    "# Evaluate model performance on test set\n",
    "accuracy = rf.score(X_test, y_test)\n",
    "print(f\"Accuracy: {accuracy}\")\n",
    "\n",
    "\n",
    "\n",
    "# lr = LogisticRegression(C=1.0)\n",
    "# lr.fit(X_train, y_train)\n",
    "# accuracy = lr.score(X_test, y_test)\n",
    "# print(f\"Accuracy: {accuracy}\")\n",
    "\n",
    "predictions = rf.predict(X_test)\n",
    "cm = confusion_matrix(y_test, predictions)\n",
    "print(conf_mat)\n",
    "\n",
    "# conf_mat = confusion_matrix(y, model1.predict(X1))\n",
    "fig, ax = plt.subplots(figsize=(3, 3))\n",
    "\n",
    "ax.imshow(cm)\n",
    "ax.grid(False)\n",
    "ax.set_title('Confusion Matrix (Baseline)')\n",
    "ax.set_xlabel('Predicted Value')\n",
    "ax.set_ylabel('Actual Value')\n",
    "\n",
    "ax.xaxis.set(ticks=(0, 1), ticklabels=('Predicted 0s', 'Predicted 1s')) \n",
    "ax.yaxis.set(ticks=(0, 1), ticklabels=('Actual 0s', 'Actual 1s')) \n",
    "ax.set_ylim(1.5, -0.5)\n",
    "for i in range(2): \n",
    "    for j in range(2):\n",
    "        ax.text(j, i, cm[i, j], ha='center', va='center', color='red')\n",
    "plt.show()"
   ]
  },
  {
   "cell_type": "code",
   "execution_count": 38,
   "id": "0a94635e",
   "metadata": {},
   "outputs": [
    {
     "name": "stdout",
     "output_type": "stream",
     "text": [
      "Accuracy: 0.9684873949579832\n"
     ]
    }
   ],
   "source": [
    "X = df[['SEX', 'AGE', 'ETHNICITY', 'HLS_YN','REGION', 'INSURANCE',\n",
    "        'PM2_FREQ_COVID','PM3_FREQ_POLITICS',\n",
    "        'PSY1_POSITIVE_USE', 'PSY2_GEN_HEALTH', 'PSY2_DIAG_CONDITION', 'PSY2_UNDIAG_CONCERN', 'PSY2_NO_KNOWLEDGE',\n",
    "       'BMI', 'C_TOTAL', 'C_DP', 'C_ANX',\n",
    "       'C_PN', 'C_ALL', 'C_MI', 'C_INSOM', 'C_HYP', 'C_DH', 'C_SA', 'C_GERD',\n",
    "       'C_CS', 'C_LIP', 'CCI_SCORE', 'GAD7_SCORE', 'PHQ9_SCORE', 'GAD7_GE10',\n",
    "       'PHQ9_GE10', 'PCS12', 'MCS12', 'VR6D']]\n",
    "y = df['label']\n",
    "\n",
    "# Split data into training and testing sets\n",
    "X_train, X_test, y_train, y_test = train_test_split(X, y, test_size=0.2, random_state=42)\n",
    "\n",
    "# Fit a random forest model\n",
    "rf = RandomForestClassifier(n_estimators=100, random_state=42)\n",
    "rf.fit(X_train, y_train)\n",
    "\n",
    "# Evaluate model performance on test set\n",
    "accuracy = rf.score(X_test, y_test)\n",
    "print(f\"Accuracy: {accuracy}\")"
   ]
  },
  {
   "cell_type": "code",
   "execution_count": 42,
   "id": "30805a8d",
   "metadata": {},
   "outputs": [],
   "source": [
    "# predictions = rf.predict(X_test)"
   ]
  },
  {
   "cell_type": "code",
   "execution_count": 48,
   "id": "958e45fb",
   "metadata": {},
   "outputs": [
    {
     "name": "stdout",
     "output_type": "stream",
     "text": [
      "[[5286    0]\n",
      " [   0  425]]\n"
     ]
    },
    {
     "data": {
      "image/png": "[encoded data removed]",
      "text/plain": [
       "<Figure size 216x216 with 1 Axes>"
      ]
     },
     "metadata": {
      "needs_background": "light"
     },
     "output_type": "display_data"
    }
   ],
   "source": [
    "from sklearn.metrics import confusion_matrix\n",
    "predictions = rf.predict(X_test)\n",
    "cm = confusion_matrix(y_test, predictions)\n",
    "print(conf_mat)\n",
    "\n",
    "# conf_mat = confusion_matrix(y, model1.predict(X1))\n",
    "fig, ax = plt.subplots(figsize=(3, 3))\n",
    "\n",
    "ax.imshow(cm)\n",
    "ax.grid(False)\n",
    "ax.set_title('Confusion Matrix (Boosted)')\n",
    "ax.set_xlabel('Predicted Value')\n",
    "ax.set_ylabel('Actual Value')\n",
    "\n",
    "ax.xaxis.set(ticks=(0, 1), ticklabels=('Predicted 0s', 'Predicted 1s')) \n",
    "ax.yaxis.set(ticks=(0, 1), ticklabels=('Actual 0s', 'Actual 1s')) \n",
    "ax.set_ylim(1.5, -0.5)\n",
    "for i in range(2): \n",
    "    for j in range(2):\n",
    "        ax.text(j, i, cm[i, j], ha='center', va='center', color='red')\n",
    "plt.show()"
   ]
  },
  {
   "cell_type": "code",
   "execution_count": 25,
   "id": "cfb6f5af",
   "metadata": {},
   "outputs": [
    {
     "data": {
      "image/png": "[encoded data removed]",
      "text/plain": [
       "<Figure size 432x288 with 1 Axes>"
      ]
     },
     "metadata": {
      "needs_background": "light"
     },
     "output_type": "display_data"
    }
   ],
   "source": [
    "feature_names = [f\"feature {i}\" for i in range(X.shape[1])]\n",
    "forest_importances = pd.Series(importances, index=feature_names)\n",
    "\n",
    "fig, ax = plt.subplots()\n",
    "\n",
    "std = np.std([tree.feature_importances_ for tree in rf.estimators_], axis=0)\n",
    "\n",
    "forest_importances.plot.bar(yerr=std, ax=ax)\n",
    "ax.set_title(\"Feature importances using MDI\")\n",
    "ax.set_ylabel(\"Mean decrease in impurity\")\n",
    "fig.tight_layout()\n"
   ]
  },
  {
   "cell_type": "code",
   "execution_count": 21,
   "id": "a9675cd4",
   "metadata": {},
   "outputs": [
    {
     "data": {
      "text/plain": [
       "array([0.0099576 , 0.04756861, 0.00943582, 0.00537636, 0.01883747,\n",
       "       0.007999  , 0.17028363, 0.18849729, 0.06557569, 0.01591593,\n",
       "       0.01067387, 0.01222596, 0.02616417, 0.05690302, 0.03052297,\n",
       "       0.00779037, 0.00704721, 0.00798882, 0.00769264, 0.00640934,\n",
       "       0.00542404, 0.00577332, 0.00571985, 0.00547329, 0.00416763,\n",
       "       0.00495426, 0.0038752 , 0.01185772, 0.03737993, 0.03814334,\n",
       "       0.0080852 , 0.00654371, 0.05240901, 0.05415934, 0.0431684 ])"
      ]
     },
     "execution_count": 21,
     "metadata": {},
     "output_type": "execute_result"
    }
   ],
   "source": [
    "importances"
   ]
  },
  {
   "cell_type": "code",
   "execution_count": 15,
   "id": "7cca3bf8",
   "metadata": {},
   "outputs": [
    {
     "name": "stdout",
     "output_type": "stream",
     "text": [
      "Feature ranking:\n",
      "1. feature 7 (0.188497)\n",
      "2. feature 6 (0.170284)\n",
      "3. feature 8 (0.065576)\n",
      "4. feature 13 (0.056903)\n",
      "5. feature 33 (0.054159)\n",
      "6. feature 32 (0.052409)\n",
      "7. feature 1 (0.047569)\n",
      "8. feature 34 (0.043168)\n",
      "9. feature 29 (0.038143)\n",
      "10. feature 28 (0.037380)\n",
      "11. feature 14 (0.030523)\n",
      "12. feature 12 (0.026164)\n",
      "13. feature 4 (0.018837)\n",
      "14. feature 9 (0.015916)\n",
      "15. feature 11 (0.012226)\n",
      "16. feature 27 (0.011858)\n",
      "17. feature 10 (0.010674)\n",
      "18. feature 0 (0.009958)\n",
      "19. feature 2 (0.009436)\n",
      "20. feature 30 (0.008085)\n",
      "21. feature 5 (0.007999)\n",
      "22. feature 17 (0.007989)\n",
      "23. feature 15 (0.007790)\n",
      "24. feature 18 (0.007693)\n",
      "25. feature 16 (0.007047)\n",
      "26. feature 31 (0.006544)\n",
      "27. feature 19 (0.006409)\n",
      "28. feature 21 (0.005773)\n",
      "29. feature 22 (0.005720)\n",
      "30. feature 23 (0.005473)\n",
      "31. feature 20 (0.005424)\n",
      "32. feature 3 (0.005376)\n",
      "33. feature 25 (0.004954)\n",
      "34. feature 24 (0.004168)\n",
      "35. feature 26 (0.003875)\n"
     ]
    }
   ],
   "source": [
    "importances = rf.feature_importances_\n",
    "\n",
    "# Sort feature importance scores in descending order\n",
    "indices = np.argsort(importances)[::-1]\n",
    "\n",
    "# Print feature ranking\n",
    "print(\"Feature ranking:\")\n",
    "for f in range(X_train.shape[1]):\n",
    "    print(\"%d. feature %d (%f)\" % (f + 1, indices[f], importances[indices[f]]))"
   ]
  },
  {
   "cell_type": "code",
   "execution_count": 27,
   "id": "ba547d77",
   "metadata": {},
   "outputs": [
    {
     "data": {
      "image/png": "[encoded data removed]",
      "text/plain": [
       "<Figure size 720x360 with 1 Axes>"
      ]
     },
     "metadata": {
      "needs_background": "light"
     },
     "output_type": "display_data"
    }
   ],
   "source": [
    "# indices = np.argsort(importances)[::-1]  # sort in descending order\n",
    "feature_names = X_train.columns.values  # get the names of the input features\n",
    "plt.figure(figsize=(10, 5))\n",
    "plt.title(\"Feature Importances\")\n",
    "plt.bar(range(X.shape[1]), importances[indices])\n",
    "\n",
    "\n",
    "plt.xlabel('Features', fontsize=20)\n",
    "plt.ylabel('Importances', fontsize=20)\n",
    "\n",
    "plt.xticks(range(X.shape[1]), feature_names[indices], rotation=90)\n",
    "plt.show()\n",
    "# # Plot feature importance scores\n",
    "# plt.figure(figsize=(10, 6))\n",
    "# plt.title(\"Feature Importance Scores\")\n",
    "# plt.bar(range(X_train.shape[1]), importances[indices])\n",
    "# plt.xticks(range(X_train.shape[1]), indices)\n",
    "# plt.xlabel(\"Feature\")\n",
    "# plt.ylabel(\"Importance Score\")\n",
    "# plt.show()"
   ]
  },
  {
   "cell_type": "code",
   "execution_count": 37,
   "id": "c4ddd1d8",
   "metadata": {},
   "outputs": [
    {
     "data": {
      "text/plain": [
       "<AxesSubplot:xlabel='Importance', ylabel='Feature'>"
      ]
     },
     "execution_count": 37,
     "metadata": {},
     "output_type": "execute_result"
    },
    {
     "data": {
      "image/png": "[encoded data removed]",
      "text/plain": [
       "<Figure size 432x288 with 2 Axes>"
      ]
     },
     "metadata": {
      "needs_background": "light"
     },
     "output_type": "display_data"
    }
   ],
   "source": [
    "import seaborn as sns\n",
    "\n",
    "importance_df = pd.DataFrame({'Feature': feature_names, 'Importance': importances})\n",
    "\n",
    "# Reshape the DataFrame to create a heatmap\n",
    "heatmap_df = importance_df.pivot(index='Feature', columns='Importance', values='Importance')\n",
    "\n",
    "# Create the heatmap using Seaborn\n",
    "sns.heatmap(heatmap_df, annot=True, fmt='.2f')"
   ]
  },
  {
   "cell_type": "markdown",
   "id": "eebd19fd",
   "metadata": {},
   "source": [
    "Random forest is a popular machine learning algorithm that is well-suited for binary classification problems, which involve predicting the outcome of a binary variable based on a set of input variables. One of the key strengths of the random forest algorithm is its ability to handle complex, high-dimensional data sets with a large number of variables. It works by building multiple decision trees on randomly sampled subsets of the input variables and then aggregating their predictions to make a final prediction. This approach helps to reduce overfitting and improve the generalizability of the model, making it less prone to errors on new, unseen data. Additionally, the algorithm is highly scalable, which means it can handle large data sets efficiently and with relatively low computational resources. Overall, the random forest algorithm is a powerful and flexible tool for binary classification problems, offering high accuracy and robustness, even when faced with noisy or incomplete data."
   ]
  }
 ],
 "metadata": {
  "kernelspec": {
   "display_name": "Python 3",
   "language": "python",
   "name": "python3"
  },
  "language_info": {
   "codemirror_mode": {
    "name": "ipython",
    "version": 3
   },
   "file_extension": ".py",
   "mimetype": "text/x-python",
   "name": "python",
   "nbconvert_exporter": "python",
   "pygments_lexer": "ipython3",
   "version": "3.8.8"
  }
 },
 "nbformat": 4,
 "nbformat_minor": 5
}
