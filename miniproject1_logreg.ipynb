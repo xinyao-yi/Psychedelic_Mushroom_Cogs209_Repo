{
 "cells": [
  {
   "cell_type": "code",
   "execution_count": 1,
   "id": "fe2c236e",
   "metadata": {},
   "outputs": [],
   "source": [
    "import pandas as pd\n",
    "import numpy as np\n",
    "from sklearn.linear_model import LogisticRegression\n",
    "from sklearn.metrics import classification_report, confusion_matrix\n",
    "from sklearn.model_selection import train_test_split\n",
    "import matplotlib.pyplot as plt"
   ]
  },
  {
   "cell_type": "code",
   "execution_count": 2,
   "id": "4d108767",
   "metadata": {},
   "outputs": [],
   "source": [
    "df = pd.read_csv('Data/Psychedelic_mushroom_DATA.csv')"
   ]
  },
  {
   "cell_type": "code",
   "execution_count": 3,
   "id": "bc29221a",
   "metadata": {},
   "outputs": [
    {
     "data": {
      "text/html": [
       "<div>\n",
       "<style scoped>\n",
       "    .dataframe tbody tr th:only-of-type {\n",
       "        vertical-align: middle;\n",
       "    }\n",
       "\n",
       "    .dataframe tbody tr th {\n",
       "        vertical-align: top;\n",
       "    }\n",
       "\n",
       "    .dataframe thead th {\n",
       "        text-align: right;\n",
       "    }\n",
       "</style>\n",
       "<table border=\"1\" class=\"dataframe\">\n",
       "  <thead>\n",
       "    <tr style=\"text-align: right;\">\n",
       "      <th></th>\n",
       "      <th>CASEID_7139</th>\n",
       "      <th>COHORTS</th>\n",
       "      <th>PYS_USE_VENN</th>\n",
       "      <th>PSY_USE_YN</th>\n",
       "      <th>PM_USE_YN</th>\n",
       "      <th>PM_USE_ONLY_YN</th>\n",
       "      <th>PM_VS_PSY_YN</th>\n",
       "      <th>SEX</th>\n",
       "      <th>AGE</th>\n",
       "      <th>ETHNICITY</th>\n",
       "      <th>...</th>\n",
       "      <th>PSY2_UNDIAG_CONCERN</th>\n",
       "      <th>PSY2_NO_KNOWLEDGE</th>\n",
       "      <th>PM1_GEN_HEALTH</th>\n",
       "      <th>PM1_DIAG_CONDITION</th>\n",
       "      <th>PM1_UNDIAG_CONCERN</th>\n",
       "      <th>PM2_FREQ_COVID</th>\n",
       "      <th>PM3_FREQ_POLITICS</th>\n",
       "      <th>PM4_CARE</th>\n",
       "      <th>INSURANCE</th>\n",
       "      <th>DATA_WEIGHT</th>\n",
       "    </tr>\n",
       "  </thead>\n",
       "  <tbody>\n",
       "    <tr>\n",
       "      <th>0</th>\n",
       "      <td>1</td>\n",
       "      <td>1.0</td>\n",
       "      <td>1.0</td>\n",
       "      <td>1.0</td>\n",
       "      <td>1.0</td>\n",
       "      <td>1.0</td>\n",
       "      <td>2.0</td>\n",
       "      <td>0</td>\n",
       "      <td>19.0</td>\n",
       "      <td>3.0</td>\n",
       "      <td>...</td>\n",
       "      <td>0</td>\n",
       "      <td>0</td>\n",
       "      <td>1</td>\n",
       "      <td>0</td>\n",
       "      <td>0</td>\n",
       "      <td>2</td>\n",
       "      <td>3</td>\n",
       "      <td>0</td>\n",
       "      <td>0</td>\n",
       "      <td>57772.54</td>\n",
       "    </tr>\n",
       "    <tr>\n",
       "      <th>1</th>\n",
       "      <td>2</td>\n",
       "      <td>1.0</td>\n",
       "      <td>1.0</td>\n",
       "      <td>1.0</td>\n",
       "      <td>1.0</td>\n",
       "      <td>1.0</td>\n",
       "      <td>2.0</td>\n",
       "      <td>0</td>\n",
       "      <td>21.0</td>\n",
       "      <td>2.0</td>\n",
       "      <td>...</td>\n",
       "      <td>1</td>\n",
       "      <td>0</td>\n",
       "      <td>1</td>\n",
       "      <td>0</td>\n",
       "      <td>0</td>\n",
       "      <td>3</td>\n",
       "      <td>3</td>\n",
       "      <td>0</td>\n",
       "      <td>1</td>\n",
       "      <td>25738.42</td>\n",
       "    </tr>\n",
       "    <tr>\n",
       "      <th>2</th>\n",
       "      <td>3</td>\n",
       "      <td>1.0</td>\n",
       "      <td>1.0</td>\n",
       "      <td>1.0</td>\n",
       "      <td>1.0</td>\n",
       "      <td>1.0</td>\n",
       "      <td>2.0</td>\n",
       "      <td>0</td>\n",
       "      <td>22.0</td>\n",
       "      <td>2.0</td>\n",
       "      <td>...</td>\n",
       "      <td>1</td>\n",
       "      <td>0</td>\n",
       "      <td>0</td>\n",
       "      <td>0</td>\n",
       "      <td>0</td>\n",
       "      <td>3</td>\n",
       "      <td>4</td>\n",
       "      <td>0</td>\n",
       "      <td>0</td>\n",
       "      <td>42172.56</td>\n",
       "    </tr>\n",
       "    <tr>\n",
       "      <th>3</th>\n",
       "      <td>4</td>\n",
       "      <td>1.0</td>\n",
       "      <td>1.0</td>\n",
       "      <td>1.0</td>\n",
       "      <td>1.0</td>\n",
       "      <td>1.0</td>\n",
       "      <td>2.0</td>\n",
       "      <td>0</td>\n",
       "      <td>22.0</td>\n",
       "      <td>2.0</td>\n",
       "      <td>...</td>\n",
       "      <td>0</td>\n",
       "      <td>0</td>\n",
       "      <td>1</td>\n",
       "      <td>0</td>\n",
       "      <td>0</td>\n",
       "      <td>3</td>\n",
       "      <td>3</td>\n",
       "      <td>0</td>\n",
       "      <td>1</td>\n",
       "      <td>28356.81</td>\n",
       "    </tr>\n",
       "    <tr>\n",
       "      <th>4</th>\n",
       "      <td>5</td>\n",
       "      <td>1.0</td>\n",
       "      <td>1.0</td>\n",
       "      <td>1.0</td>\n",
       "      <td>1.0</td>\n",
       "      <td>1.0</td>\n",
       "      <td>2.0</td>\n",
       "      <td>0</td>\n",
       "      <td>23.0</td>\n",
       "      <td>2.0</td>\n",
       "      <td>...</td>\n",
       "      <td>1</td>\n",
       "      <td>0</td>\n",
       "      <td>1</td>\n",
       "      <td>0</td>\n",
       "      <td>0</td>\n",
       "      <td>3</td>\n",
       "      <td>3</td>\n",
       "      <td>0</td>\n",
       "      <td>1</td>\n",
       "      <td>25738.42</td>\n",
       "    </tr>\n",
       "  </tbody>\n",
       "</table>\n",
       "<p>5 rows × 57 columns</p>\n",
       "</div>"
      ],
      "text/plain": [
       "   CASEID_7139  COHORTS  PYS_USE_VENN  PSY_USE_YN  PM_USE_YN  PM_USE_ONLY_YN  \\\n",
       "0            1      1.0           1.0         1.0        1.0             1.0   \n",
       "1            2      1.0           1.0         1.0        1.0             1.0   \n",
       "2            3      1.0           1.0         1.0        1.0             1.0   \n",
       "3            4      1.0           1.0         1.0        1.0             1.0   \n",
       "4            5      1.0           1.0         1.0        1.0             1.0   \n",
       "\n",
       "   PM_VS_PSY_YN  SEX   AGE  ETHNICITY  ...  PSY2_UNDIAG_CONCERN  \\\n",
       "0           2.0    0  19.0        3.0  ...                    0   \n",
       "1           2.0    0  21.0        2.0  ...                    1   \n",
       "2           2.0    0  22.0        2.0  ...                    1   \n",
       "3           2.0    0  22.0        2.0  ...                    0   \n",
       "4           2.0    0  23.0        2.0  ...                    1   \n",
       "\n",
       "   PSY2_NO_KNOWLEDGE  PM1_GEN_HEALTH  PM1_DIAG_CONDITION  PM1_UNDIAG_CONCERN  \\\n",
       "0                  0               1                   0                   0   \n",
       "1                  0               1                   0                   0   \n",
       "2                  0               0                   0                   0   \n",
       "3                  0               1                   0                   0   \n",
       "4                  0               1                   0                   0   \n",
       "\n",
       "   PM2_FREQ_COVID  PM3_FREQ_POLITICS  PM4_CARE  INSURANCE  DATA_WEIGHT  \n",
       "0               2                  3         0          0     57772.54  \n",
       "1               3                  3         0          1     25738.42  \n",
       "2               3                  4         0          0     42172.56  \n",
       "3               3                  3         0          1     28356.81  \n",
       "4               3                  3         0          1     25738.42  \n",
       "\n",
       "[5 rows x 57 columns]"
      ]
     },
     "execution_count": 3,
     "metadata": {},
     "output_type": "execute_result"
    }
   ],
   "source": [
    "df.head(5)"
   ]
  },
  {
   "cell_type": "markdown",
   "id": "3c7572c1",
   "metadata": {},
   "source": [
    "## Baseline Model"
   ]
  },
  {
   "cell_type": "code",
   "execution_count": 4,
   "id": "99ddccbd",
   "metadata": {},
   "outputs": [
    {
     "data": {
      "text/html": [
       "<div>\n",
       "<style scoped>\n",
       "    .dataframe tbody tr th:only-of-type {\n",
       "        vertical-align: middle;\n",
       "    }\n",
       "\n",
       "    .dataframe tbody tr th {\n",
       "        vertical-align: top;\n",
       "    }\n",
       "\n",
       "    .dataframe thead th {\n",
       "        text-align: right;\n",
       "    }\n",
       "</style>\n",
       "<table border=\"1\" class=\"dataframe\">\n",
       "  <thead>\n",
       "    <tr style=\"text-align: right;\">\n",
       "      <th></th>\n",
       "      <th>SEX</th>\n",
       "      <th>AGE</th>\n",
       "      <th>ETHNICITY</th>\n",
       "      <th>HLS_YN</th>\n",
       "      <th>REGION</th>\n",
       "      <th>INSURANCE</th>\n",
       "      <th>PM2_FREQ_COVID</th>\n",
       "      <th>PM3_FREQ_POLITICS</th>\n",
       "      <th>PSY1_POSITIVE_USE</th>\n",
       "      <th>PSY2_GEN_HEALTH</th>\n",
       "      <th>PSY2_DIAG_CONDITION</th>\n",
       "      <th>PSY2_UNDIAG_CONCERN</th>\n",
       "      <th>PSY2_NO_KNOWLEDGE</th>\n",
       "    </tr>\n",
       "  </thead>\n",
       "  <tbody>\n",
       "    <tr>\n",
       "      <th>0</th>\n",
       "      <td>0</td>\n",
       "      <td>19.0</td>\n",
       "      <td>3.0</td>\n",
       "      <td>1.0</td>\n",
       "      <td>4.0</td>\n",
       "      <td>0</td>\n",
       "      <td>2</td>\n",
       "      <td>3</td>\n",
       "      <td>3</td>\n",
       "      <td>1</td>\n",
       "      <td>0</td>\n",
       "      <td>0</td>\n",
       "      <td>0</td>\n",
       "    </tr>\n",
       "    <tr>\n",
       "      <th>1</th>\n",
       "      <td>0</td>\n",
       "      <td>21.0</td>\n",
       "      <td>2.0</td>\n",
       "      <td>0.0</td>\n",
       "      <td>2.0</td>\n",
       "      <td>1</td>\n",
       "      <td>3</td>\n",
       "      <td>3</td>\n",
       "      <td>1</td>\n",
       "      <td>0</td>\n",
       "      <td>0</td>\n",
       "      <td>1</td>\n",
       "      <td>0</td>\n",
       "    </tr>\n",
       "    <tr>\n",
       "      <th>2</th>\n",
       "      <td>0</td>\n",
       "      <td>22.0</td>\n",
       "      <td>2.0</td>\n",
       "      <td>0.0</td>\n",
       "      <td>4.0</td>\n",
       "      <td>0</td>\n",
       "      <td>3</td>\n",
       "      <td>4</td>\n",
       "      <td>3</td>\n",
       "      <td>1</td>\n",
       "      <td>1</td>\n",
       "      <td>1</td>\n",
       "      <td>0</td>\n",
       "    </tr>\n",
       "    <tr>\n",
       "      <th>3</th>\n",
       "      <td>0</td>\n",
       "      <td>22.0</td>\n",
       "      <td>2.0</td>\n",
       "      <td>0.0</td>\n",
       "      <td>3.0</td>\n",
       "      <td>1</td>\n",
       "      <td>3</td>\n",
       "      <td>3</td>\n",
       "      <td>2</td>\n",
       "      <td>1</td>\n",
       "      <td>1</td>\n",
       "      <td>0</td>\n",
       "      <td>0</td>\n",
       "    </tr>\n",
       "    <tr>\n",
       "      <th>4</th>\n",
       "      <td>0</td>\n",
       "      <td>23.0</td>\n",
       "      <td>2.0</td>\n",
       "      <td>0.0</td>\n",
       "      <td>2.0</td>\n",
       "      <td>1</td>\n",
       "      <td>3</td>\n",
       "      <td>3</td>\n",
       "      <td>2</td>\n",
       "      <td>1</td>\n",
       "      <td>1</td>\n",
       "      <td>1</td>\n",
       "      <td>0</td>\n",
       "    </tr>\n",
       "  </tbody>\n",
       "</table>\n",
       "</div>"
      ],
      "text/plain": [
       "   SEX   AGE  ETHNICITY  HLS_YN  REGION  INSURANCE  PM2_FREQ_COVID  \\\n",
       "0    0  19.0        3.0     1.0     4.0          0               2   \n",
       "1    0  21.0        2.0     0.0     2.0          1               3   \n",
       "2    0  22.0        2.0     0.0     4.0          0               3   \n",
       "3    0  22.0        2.0     0.0     3.0          1               3   \n",
       "4    0  23.0        2.0     0.0     2.0          1               3   \n",
       "\n",
       "   PM3_FREQ_POLITICS  PSY1_POSITIVE_USE  PSY2_GEN_HEALTH  PSY2_DIAG_CONDITION  \\\n",
       "0                  3                  3                1                    0   \n",
       "1                  3                  1                0                    0   \n",
       "2                  4                  3                1                    1   \n",
       "3                  3                  2                1                    1   \n",
       "4                  3                  2                1                    1   \n",
       "\n",
       "   PSY2_UNDIAG_CONCERN  PSY2_NO_KNOWLEDGE  \n",
       "0                    0                  0  \n",
       "1                    1                  0  \n",
       "2                    1                  0  \n",
       "3                    0                  0  \n",
       "4                    1                  0  "
      ]
     },
     "execution_count": 4,
     "metadata": {},
     "output_type": "execute_result"
    }
   ],
   "source": [
    "# For the baseline model, the predictive variables are: \n",
    "# demographic and socioecomomic status, and knowledge of psychedelic compounds.\n",
    "\n",
    "X1 = df[['SEX', 'AGE', 'ETHNICITY', 'HLS_YN', 'REGION', 'INSURANCE', 'PM2_FREQ_COVID','PM3_FREQ_POLITICS',\n",
    "        'PSY1_POSITIVE_USE', 'PSY2_GEN_HEALTH', 'PSY2_DIAG_CONDITION', 'PSY2_UNDIAG_CONCERN', 'PSY2_NO_KNOWLEDGE']]\n",
    "X1.head(5)"
   ]
  },
  {
   "cell_type": "code",
   "execution_count": 5,
   "id": "4da17c25",
   "metadata": {},
   "outputs": [],
   "source": [
    "df['label'] = df['COHORTS'].replace(-99, 1)\n",
    "y = df['label']"
   ]
  },
  {
   "cell_type": "code",
   "execution_count": 6,
   "id": "621d5b09",
   "metadata": {},
   "outputs": [],
   "source": [
    "X1_train, X1_test, y_train, y_test = train_test_split(X1, y, test_size=0.2, random_state=42)"
   ]
  },
  {
   "cell_type": "code",
   "execution_count": 7,
   "id": "48e6743d",
   "metadata": {},
   "outputs": [
    {
     "data": {
      "text/plain": [
       "LogisticRegression(random_state=42, solver='liblinear')"
      ]
     },
     "execution_count": 7,
     "metadata": {},
     "output_type": "execute_result"
    }
   ],
   "source": [
    "model1 = LogisticRegression(solver='liblinear', random_state=42)\n",
    "model1.fit(X1_train, y_train)"
   ]
  },
  {
   "cell_type": "code",
   "execution_count": 8,
   "id": "09f4ec2e",
   "metadata": {},
   "outputs": [
    {
     "name": "stdout",
     "output_type": "stream",
     "text": [
      "classes: [0. 1.]\n",
      "intercept: [5.41795779]\n",
      "coef: [[ 0.74960149 -0.03054546 -0.02509807  0.07092273  0.15426709  0.16078642\n",
      "  -0.13584191  0.19368025 -0.68755775 -0.11636795 -0.18271447  0.33259463\n",
      "  -1.31032637]]\n"
     ]
    }
   ],
   "source": [
    "print('classes:', model1.classes_)\n",
    "print('intercept:', model1.intercept_)\n",
    "print('coef:', model1.coef_)"
   ]
  },
  {
   "cell_type": "code",
   "execution_count": 9,
   "id": "675e55ca",
   "metadata": {},
   "outputs": [
    {
     "name": "stdout",
     "output_type": "stream",
     "text": [
      "predicted probability: [[0.99613625 0.00386375]\n",
      " [0.9780162  0.0219838 ]\n",
      " [0.99542523 0.00457477]\n",
      " ...\n",
      " [0.93360591 0.06639409]\n",
      " [0.99796111 0.00203889]\n",
      " [0.94124465 0.05875535]]\n",
      "predicted value: [0. 0. 0. ... 0. 0. 0.]\n"
     ]
    }
   ],
   "source": [
    "print('predicted probability:', model1.predict_proba(X1_test))\n",
    "print('predicted value:', model1.predict(X1_test))"
   ]
  },
  {
   "cell_type": "code",
   "execution_count": 10,
   "id": "6aa295aa",
   "metadata": {},
   "outputs": [
    {
     "data": {
      "text/plain": [
       "0.9684873949579832"
      ]
     },
     "execution_count": 10,
     "metadata": {},
     "output_type": "execute_result"
    }
   ],
   "source": [
    "model1.score(X1_test, y_test)"
   ]
  },
  {
   "cell_type": "code",
   "execution_count": 11,
   "id": "a5802133",
   "metadata": {},
   "outputs": [
    {
     "data": {
      "text/plain": [
       "array([[1327,    0],\n",
       "       [  45,   56]])"
      ]
     },
     "execution_count": 11,
     "metadata": {},
     "output_type": "execute_result"
    }
   ],
   "source": [
    "confusion_matrix(y_test, model1.predict(X1_test))"
   ]
  },
  {
   "cell_type": "code",
   "execution_count": 12,
   "id": "2a7dd72b",
   "metadata": {},
   "outputs": [
    {
     "data": {
      "image/png": "[encoded data removed]",
      "text/plain": [
       "<Figure size 300x300 with 1 Axes>"
      ]
     },
     "metadata": {},
     "output_type": "display_data"
    }
   ],
   "source": [
    "cm = confusion_matrix(y_test, model1.predict(X1_test))\n",
    "\n",
    "fig, ax = plt.subplots(figsize=(3, 3))\n",
    "ax.imshow(cm)\n",
    "ax.grid(False)\n",
    "ax.xaxis.set(ticks=(0, 1), ticklabels=('Predicted 0s', 'Predicted 1s'))\n",
    "ax.yaxis.set(ticks=(0, 1), ticklabels=('Actual 0s', 'Actual 1s'))\n",
    "ax.set_ylim(1.5, -0.5)\n",
    "for i in range(2):\n",
    "    for j in range(2):\n",
    "        ax.text(j, i, cm[i, j], ha='center', va='center', color='red')\n",
    "plt.xlabel(\"Predicted value\")\n",
    "plt.ylabel(\"Actual Value\")\n",
    "plt.title(\"Confusion Matrix (Baseline)\", fontsize=10)\n",
    "plt.show()"
   ]
  },
  {
   "cell_type": "code",
   "execution_count": 13,
   "id": "7082167c",
   "metadata": {},
   "outputs": [
    {
     "name": "stdout",
     "output_type": "stream",
     "text": [
      "              precision    recall  f1-score   support\n",
      "\n",
      "         0.0       0.97      1.00      0.98      1327\n",
      "         1.0       1.00      0.55      0.71       101\n",
      "\n",
      "    accuracy                           0.97      1428\n",
      "   macro avg       0.98      0.78      0.85      1428\n",
      "weighted avg       0.97      0.97      0.96      1428\n",
      "\n"
     ]
    }
   ],
   "source": [
    "print(classification_report(y_test, model1.predict(X1_test)))"
   ]
  },
  {
   "cell_type": "markdown",
   "id": "c6a716f1",
   "metadata": {},
   "source": [
    "## Boosted Model"
   ]
  },
  {
   "cell_type": "code",
   "execution_count": 14,
   "id": "b7ed18b8",
   "metadata": {
    "scrolled": false
   },
   "outputs": [
    {
     "data": {
      "text/html": [
       "<div>\n",
       "<style scoped>\n",
       "    .dataframe tbody tr th:only-of-type {\n",
       "        vertical-align: middle;\n",
       "    }\n",
       "\n",
       "    .dataframe tbody tr th {\n",
       "        vertical-align: top;\n",
       "    }\n",
       "\n",
       "    .dataframe thead th {\n",
       "        text-align: right;\n",
       "    }\n",
       "</style>\n",
       "<table border=\"1\" class=\"dataframe\">\n",
       "  <thead>\n",
       "    <tr style=\"text-align: right;\">\n",
       "      <th></th>\n",
       "      <th>SEX</th>\n",
       "      <th>AGE</th>\n",
       "      <th>ETHNICITY</th>\n",
       "      <th>HLS_YN</th>\n",
       "      <th>REGION</th>\n",
       "      <th>INSURANCE</th>\n",
       "      <th>PM2_FREQ_COVID</th>\n",
       "      <th>PM3_FREQ_POLITICS</th>\n",
       "      <th>PSY1_POSITIVE_USE</th>\n",
       "      <th>PSY2_GEN_HEALTH</th>\n",
       "      <th>...</th>\n",
       "      <th>C_CS</th>\n",
       "      <th>C_LIP</th>\n",
       "      <th>CCI_SCORE</th>\n",
       "      <th>GAD7_SCORE</th>\n",
       "      <th>PHQ9_SCORE</th>\n",
       "      <th>GAD7_GE10</th>\n",
       "      <th>PHQ9_GE10</th>\n",
       "      <th>PCS12</th>\n",
       "      <th>MCS12</th>\n",
       "      <th>VR6D</th>\n",
       "    </tr>\n",
       "  </thead>\n",
       "  <tbody>\n",
       "    <tr>\n",
       "      <th>0</th>\n",
       "      <td>0</td>\n",
       "      <td>19.0</td>\n",
       "      <td>3.0</td>\n",
       "      <td>1.0</td>\n",
       "      <td>4.0</td>\n",
       "      <td>0</td>\n",
       "      <td>2</td>\n",
       "      <td>3</td>\n",
       "      <td>3</td>\n",
       "      <td>1</td>\n",
       "      <td>...</td>\n",
       "      <td>0.0</td>\n",
       "      <td>0.0</td>\n",
       "      <td>0.0</td>\n",
       "      <td>3.0</td>\n",
       "      <td>8.0</td>\n",
       "      <td>0.0</td>\n",
       "      <td>0.0</td>\n",
       "      <td>48.99</td>\n",
       "      <td>37.90</td>\n",
       "      <td>0.67</td>\n",
       "    </tr>\n",
       "    <tr>\n",
       "      <th>1</th>\n",
       "      <td>0</td>\n",
       "      <td>21.0</td>\n",
       "      <td>2.0</td>\n",
       "      <td>0.0</td>\n",
       "      <td>2.0</td>\n",
       "      <td>1</td>\n",
       "      <td>3</td>\n",
       "      <td>3</td>\n",
       "      <td>1</td>\n",
       "      <td>0</td>\n",
       "      <td>...</td>\n",
       "      <td>0.0</td>\n",
       "      <td>0.0</td>\n",
       "      <td>0.0</td>\n",
       "      <td>0.0</td>\n",
       "      <td>0.0</td>\n",
       "      <td>0.0</td>\n",
       "      <td>0.0</td>\n",
       "      <td>54.21</td>\n",
       "      <td>57.93</td>\n",
       "      <td>0.86</td>\n",
       "    </tr>\n",
       "    <tr>\n",
       "      <th>2</th>\n",
       "      <td>0</td>\n",
       "      <td>22.0</td>\n",
       "      <td>2.0</td>\n",
       "      <td>0.0</td>\n",
       "      <td>4.0</td>\n",
       "      <td>0</td>\n",
       "      <td>3</td>\n",
       "      <td>4</td>\n",
       "      <td>3</td>\n",
       "      <td>1</td>\n",
       "      <td>...</td>\n",
       "      <td>0.0</td>\n",
       "      <td>0.0</td>\n",
       "      <td>0.0</td>\n",
       "      <td>21.0</td>\n",
       "      <td>17.0</td>\n",
       "      <td>1.0</td>\n",
       "      <td>1.0</td>\n",
       "      <td>33.83</td>\n",
       "      <td>25.91</td>\n",
       "      <td>0.47</td>\n",
       "    </tr>\n",
       "    <tr>\n",
       "      <th>3</th>\n",
       "      <td>0</td>\n",
       "      <td>22.0</td>\n",
       "      <td>2.0</td>\n",
       "      <td>0.0</td>\n",
       "      <td>3.0</td>\n",
       "      <td>1</td>\n",
       "      <td>3</td>\n",
       "      <td>3</td>\n",
       "      <td>2</td>\n",
       "      <td>1</td>\n",
       "      <td>...</td>\n",
       "      <td>0.0</td>\n",
       "      <td>0.0</td>\n",
       "      <td>0.0</td>\n",
       "      <td>5.0</td>\n",
       "      <td>15.0</td>\n",
       "      <td>0.0</td>\n",
       "      <td>1.0</td>\n",
       "      <td>61.63</td>\n",
       "      <td>25.13</td>\n",
       "      <td>0.67</td>\n",
       "    </tr>\n",
       "    <tr>\n",
       "      <th>4</th>\n",
       "      <td>0</td>\n",
       "      <td>23.0</td>\n",
       "      <td>2.0</td>\n",
       "      <td>0.0</td>\n",
       "      <td>2.0</td>\n",
       "      <td>1</td>\n",
       "      <td>3</td>\n",
       "      <td>3</td>\n",
       "      <td>2</td>\n",
       "      <td>1</td>\n",
       "      <td>...</td>\n",
       "      <td>0.0</td>\n",
       "      <td>0.0</td>\n",
       "      <td>0.0</td>\n",
       "      <td>13.0</td>\n",
       "      <td>15.0</td>\n",
       "      <td>1.0</td>\n",
       "      <td>1.0</td>\n",
       "      <td>38.54</td>\n",
       "      <td>45.53</td>\n",
       "      <td>0.64</td>\n",
       "    </tr>\n",
       "  </tbody>\n",
       "</table>\n",
       "<p>5 rows × 35 columns</p>\n",
       "</div>"
      ],
      "text/plain": [
       "   SEX   AGE  ETHNICITY  HLS_YN  REGION  INSURANCE  PM2_FREQ_COVID  \\\n",
       "0    0  19.0        3.0     1.0     4.0          0               2   \n",
       "1    0  21.0        2.0     0.0     2.0          1               3   \n",
       "2    0  22.0        2.0     0.0     4.0          0               3   \n",
       "3    0  22.0        2.0     0.0     3.0          1               3   \n",
       "4    0  23.0        2.0     0.0     2.0          1               3   \n",
       "\n",
       "   PM3_FREQ_POLITICS  PSY1_POSITIVE_USE  PSY2_GEN_HEALTH  ...  C_CS  C_LIP  \\\n",
       "0                  3                  3                1  ...   0.0    0.0   \n",
       "1                  3                  1                0  ...   0.0    0.0   \n",
       "2                  4                  3                1  ...   0.0    0.0   \n",
       "3                  3                  2                1  ...   0.0    0.0   \n",
       "4                  3                  2                1  ...   0.0    0.0   \n",
       "\n",
       "   CCI_SCORE  GAD7_SCORE  PHQ9_SCORE  GAD7_GE10  PHQ9_GE10  PCS12  MCS12  VR6D  \n",
       "0        0.0         3.0         8.0        0.0        0.0  48.99  37.90  0.67  \n",
       "1        0.0         0.0         0.0        0.0        0.0  54.21  57.93  0.86  \n",
       "2        0.0        21.0        17.0        1.0        1.0  33.83  25.91  0.47  \n",
       "3        0.0         5.0        15.0        0.0        1.0  61.63  25.13  0.67  \n",
       "4        0.0        13.0        15.0        1.0        1.0  38.54  45.53  0.64  \n",
       "\n",
       "[5 rows x 35 columns]"
      ]
     },
     "execution_count": 14,
     "metadata": {},
     "output_type": "execute_result"
    }
   ],
   "source": [
    "# For the boosted model, the predictive variables are: \n",
    "# demographic and socioecomomic status, knowledge of psychedelic compounds, and health conditions.\n",
    "\n",
    "X2 = df[['SEX', 'AGE', 'ETHNICITY', 'HLS_YN', 'REGION', 'INSURANCE', 'PM2_FREQ_COVID','PM3_FREQ_POLITICS',\n",
    "        'PSY1_POSITIVE_USE', 'PSY2_GEN_HEALTH', 'PSY2_DIAG_CONDITION', 'PSY2_UNDIAG_CONCERN', 'PSY2_NO_KNOWLEDGE',\n",
    "        'BMI', 'C_TOTAL', 'C_DP', 'C_ANX', 'C_PN', 'C_ALL', 'C_MI', 'C_INSOM', 'C_HYP', 'C_DH', 'C_SA', 'C_GERD', 'C_CS', 'C_LIP', \n",
    "        'CCI_SCORE', 'GAD7_SCORE', 'PHQ9_SCORE', 'GAD7_GE10', 'PHQ9_GE10', 'PCS12', 'MCS12', 'VR6D']]\n",
    "X2.head(5)"
   ]
  },
  {
   "cell_type": "code",
   "execution_count": 15,
   "id": "642f7131",
   "metadata": {},
   "outputs": [],
   "source": [
    "X2_train, X2_test, y_train, y_test = train_test_split(X2, y, test_size=0.2, random_state=42)"
   ]
  },
  {
   "cell_type": "code",
   "execution_count": 16,
   "id": "d4a6f7fe",
   "metadata": {},
   "outputs": [
    {
     "data": {
      "text/plain": [
       "LogisticRegression(random_state=42, solver='liblinear')"
      ]
     },
     "execution_count": 16,
     "metadata": {},
     "output_type": "execute_result"
    }
   ],
   "source": [
    "model2 = LogisticRegression(solver='liblinear', random_state=42)\n",
    "model2.fit(X2_train, y_train)"
   ]
  },
  {
   "cell_type": "code",
   "execution_count": 17,
   "id": "9ba067a9",
   "metadata": {},
   "outputs": [
    {
     "name": "stdout",
     "output_type": "stream",
     "text": [
      "classes: [0. 1.]\n",
      "intercept: [5.12967545]\n",
      "coef: [[ 0.75558949 -0.02847401 -0.02841443  0.10460261  0.15947173  0.24229272\n",
      "  -0.08724767  0.14729656 -0.62809782 -0.12164253 -0.18811092  0.32666733\n",
      "  -1.24728555 -0.01033248 -0.00613639 -0.01224998 -0.08124321  0.08083122\n",
      "   0.12290868  0.08419783 -0.61244213  0.2533631   0.11625592  0.37364453\n",
      "  -0.26836617 -0.2244746  -0.29520134  0.05510258  0.03656635  0.02379485\n",
      "   0.06291424  0.23496769 -0.00489685  0.00654279 -0.34219576]]\n"
     ]
    }
   ],
   "source": [
    "print('classes:', model2.classes_)\n",
    "print('intercept:', model2.intercept_)\n",
    "print('coef:', model2.coef_)"
   ]
  },
  {
   "cell_type": "code",
   "execution_count": 18,
   "id": "6fbfcf8f",
   "metadata": {},
   "outputs": [
    {
     "name": "stdout",
     "output_type": "stream",
     "text": [
      "predicted probability: [[0.99699314 0.00300686]\n",
      " [0.95752053 0.04247947]\n",
      " [0.99827073 0.00172927]\n",
      " ...\n",
      " [0.95815126 0.04184874]\n",
      " [0.99843842 0.00156158]\n",
      " [0.93004252 0.06995748]]\n",
      "predicted value: [0. 0. 0. ... 0. 0. 0.]\n"
     ]
    }
   ],
   "source": [
    "print('predicted probability:', model2.predict_proba(X2_test))\n",
    "print('predicted value:', model2.predict(X2_test))"
   ]
  },
  {
   "cell_type": "code",
   "execution_count": 19,
   "id": "6721651c",
   "metadata": {},
   "outputs": [
    {
     "data": {
      "text/plain": [
       "0.969187675070028"
      ]
     },
     "execution_count": 19,
     "metadata": {},
     "output_type": "execute_result"
    }
   ],
   "source": [
    "model2.score(X2_test, y_test)"
   ]
  },
  {
   "cell_type": "code",
   "execution_count": 20,
   "id": "f183887d",
   "metadata": {},
   "outputs": [
    {
     "data": {
      "text/plain": [
       "array([[1326,    1],\n",
       "       [  43,   58]])"
      ]
     },
     "execution_count": 20,
     "metadata": {},
     "output_type": "execute_result"
    }
   ],
   "source": [
    "confusion_matrix(y_test, model2.predict(X2_test))"
   ]
  },
  {
   "cell_type": "code",
   "execution_count": 21,
   "id": "a3e19722",
   "metadata": {},
   "outputs": [
    {
     "data": {
      "image/png": "[encoded data removed]",
      "text/plain": [
       "<Figure size 300x300 with 1 Axes>"
      ]
     },
     "metadata": {},
     "output_type": "display_data"
    }
   ],
   "source": [
    "cm = confusion_matrix(y_test, model2.predict(X2_test))\n",
    "\n",
    "fig, ax = plt.subplots(figsize=(3, 3))\n",
    "ax.imshow(cm)\n",
    "ax.grid(False)\n",
    "ax.xaxis.set(ticks=(0, 1), ticklabels=('Predicted 0s', 'Predicted 1s'))\n",
    "ax.yaxis.set(ticks=(0, 1), ticklabels=('Actual 0s', 'Actual 1s'))\n",
    "ax.set_ylim(1.5, -0.5)\n",
    "for i in range(2):\n",
    "    for j in range(2):\n",
    "        ax.text(j, i, cm[i, j], ha='center', va='center', color='red')\n",
    "plt.xlabel(\"Predicted value\")\n",
    "plt.ylabel(\"Actual Value\")\n",
    "plt.title(\"Confusion Matrix (Boosted)\", fontsize=10)\n",
    "plt.show()"
   ]
  },
  {
   "cell_type": "code",
   "execution_count": 22,
   "id": "259643c9",
   "metadata": {},
   "outputs": [
    {
     "name": "stdout",
     "output_type": "stream",
     "text": [
      "              precision    recall  f1-score   support\n",
      "\n",
      "         0.0       0.97      1.00      0.98      1327\n",
      "         1.0       0.98      0.57      0.72       101\n",
      "\n",
      "    accuracy                           0.97      1428\n",
      "   macro avg       0.98      0.79      0.85      1428\n",
      "weighted avg       0.97      0.97      0.97      1428\n",
      "\n"
     ]
    }
   ],
   "source": [
    "print(classification_report(y_test, model2.predict(X2_test)))"
   ]
  },
  {
   "cell_type": "code",
   "execution_count": null,
   "id": "3a8f35c6",
   "metadata": {},
   "outputs": [],
   "source": []
  }
 ],
 "metadata": {
  "kernelspec": {
   "display_name": "Python 3 (ipykernel)",
   "language": "python",
   "name": "python3"
  },
  "language_info": {
   "codemirror_mode": {
    "name": "ipython",
    "version": 3
   },
   "file_extension": ".py",
   "mimetype": "text/x-python",
   "name": "python",
   "nbconvert_exporter": "python",
   "pygments_lexer": "ipython3",
   "version": "3.10.9"
  }
 },
 "nbformat": 4,
 "nbformat_minor": 5
}
