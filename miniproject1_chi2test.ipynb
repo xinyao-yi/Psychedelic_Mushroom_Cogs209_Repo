{
 "cells": [
  {
   "cell_type": "code",
   "execution_count": 1,
   "id": "0702b50c",
   "metadata": {},
   "outputs": [],
   "source": [
    "import numpy as np\n",
    "import pandas as pd\n",
    "import seaborn as sns\n",
    "import matplotlib.pyplot as plt "
   ]
  },
  {
   "cell_type": "code",
   "execution_count": 2,
   "id": "00db6b90",
   "metadata": {
    "scrolled": true
   },
   "outputs": [
    {
     "data": {
      "text/html": [
       "<div>\n",
       "<style scoped>\n",
       "    .dataframe tbody tr th:only-of-type {\n",
       "        vertical-align: middle;\n",
       "    }\n",
       "\n",
       "    .dataframe tbody tr th {\n",
       "        vertical-align: top;\n",
       "    }\n",
       "\n",
       "    .dataframe thead th {\n",
       "        text-align: right;\n",
       "    }\n",
       "</style>\n",
       "<table border=\"1\" class=\"dataframe\">\n",
       "  <thead>\n",
       "    <tr style=\"text-align: right;\">\n",
       "      <th></th>\n",
       "      <th>CASEID_7139</th>\n",
       "      <th>COHORTS</th>\n",
       "      <th>PYS_USE_VENN</th>\n",
       "      <th>PSY_USE_YN</th>\n",
       "      <th>PM_USE_YN</th>\n",
       "      <th>PM_USE_ONLY_YN</th>\n",
       "      <th>PM_VS_PSY_YN</th>\n",
       "      <th>SEX</th>\n",
       "      <th>AGE</th>\n",
       "      <th>ETHNICITY</th>\n",
       "      <th>...</th>\n",
       "      <th>PSY2_UNDIAG_CONCERN</th>\n",
       "      <th>PSY2_NO_KNOWLEDGE</th>\n",
       "      <th>PM1_GEN_HEALTH</th>\n",
       "      <th>PM1_DIAG_CONDITION</th>\n",
       "      <th>PM1_UNDIAG_CONCERN</th>\n",
       "      <th>PM2_FREQ_COVID</th>\n",
       "      <th>PM3_FREQ_POLITICS</th>\n",
       "      <th>PM4_CARE</th>\n",
       "      <th>INSURANCE</th>\n",
       "      <th>DATA_WEIGHT</th>\n",
       "    </tr>\n",
       "  </thead>\n",
       "  <tbody>\n",
       "    <tr>\n",
       "      <th>0</th>\n",
       "      <td>1</td>\n",
       "      <td>1.0</td>\n",
       "      <td>1.0</td>\n",
       "      <td>1.0</td>\n",
       "      <td>1.0</td>\n",
       "      <td>1.0</td>\n",
       "      <td>2.0</td>\n",
       "      <td>0</td>\n",
       "      <td>19.0</td>\n",
       "      <td>3.0</td>\n",
       "      <td>...</td>\n",
       "      <td>0</td>\n",
       "      <td>0</td>\n",
       "      <td>1</td>\n",
       "      <td>0</td>\n",
       "      <td>0</td>\n",
       "      <td>2</td>\n",
       "      <td>3</td>\n",
       "      <td>0</td>\n",
       "      <td>0</td>\n",
       "      <td>57772.54</td>\n",
       "    </tr>\n",
       "    <tr>\n",
       "      <th>1</th>\n",
       "      <td>2</td>\n",
       "      <td>1.0</td>\n",
       "      <td>1.0</td>\n",
       "      <td>1.0</td>\n",
       "      <td>1.0</td>\n",
       "      <td>1.0</td>\n",
       "      <td>2.0</td>\n",
       "      <td>0</td>\n",
       "      <td>21.0</td>\n",
       "      <td>2.0</td>\n",
       "      <td>...</td>\n",
       "      <td>1</td>\n",
       "      <td>0</td>\n",
       "      <td>1</td>\n",
       "      <td>0</td>\n",
       "      <td>0</td>\n",
       "      <td>3</td>\n",
       "      <td>3</td>\n",
       "      <td>0</td>\n",
       "      <td>1</td>\n",
       "      <td>25738.42</td>\n",
       "    </tr>\n",
       "    <tr>\n",
       "      <th>2</th>\n",
       "      <td>3</td>\n",
       "      <td>1.0</td>\n",
       "      <td>1.0</td>\n",
       "      <td>1.0</td>\n",
       "      <td>1.0</td>\n",
       "      <td>1.0</td>\n",
       "      <td>2.0</td>\n",
       "      <td>0</td>\n",
       "      <td>22.0</td>\n",
       "      <td>2.0</td>\n",
       "      <td>...</td>\n",
       "      <td>1</td>\n",
       "      <td>0</td>\n",
       "      <td>0</td>\n",
       "      <td>0</td>\n",
       "      <td>0</td>\n",
       "      <td>3</td>\n",
       "      <td>4</td>\n",
       "      <td>0</td>\n",
       "      <td>0</td>\n",
       "      <td>42172.56</td>\n",
       "    </tr>\n",
       "    <tr>\n",
       "      <th>3</th>\n",
       "      <td>4</td>\n",
       "      <td>1.0</td>\n",
       "      <td>1.0</td>\n",
       "      <td>1.0</td>\n",
       "      <td>1.0</td>\n",
       "      <td>1.0</td>\n",
       "      <td>2.0</td>\n",
       "      <td>0</td>\n",
       "      <td>22.0</td>\n",
       "      <td>2.0</td>\n",
       "      <td>...</td>\n",
       "      <td>0</td>\n",
       "      <td>0</td>\n",
       "      <td>1</td>\n",
       "      <td>0</td>\n",
       "      <td>0</td>\n",
       "      <td>3</td>\n",
       "      <td>3</td>\n",
       "      <td>0</td>\n",
       "      <td>1</td>\n",
       "      <td>28356.81</td>\n",
       "    </tr>\n",
       "    <tr>\n",
       "      <th>4</th>\n",
       "      <td>5</td>\n",
       "      <td>1.0</td>\n",
       "      <td>1.0</td>\n",
       "      <td>1.0</td>\n",
       "      <td>1.0</td>\n",
       "      <td>1.0</td>\n",
       "      <td>2.0</td>\n",
       "      <td>0</td>\n",
       "      <td>23.0</td>\n",
       "      <td>2.0</td>\n",
       "      <td>...</td>\n",
       "      <td>1</td>\n",
       "      <td>0</td>\n",
       "      <td>1</td>\n",
       "      <td>0</td>\n",
       "      <td>0</td>\n",
       "      <td>3</td>\n",
       "      <td>3</td>\n",
       "      <td>0</td>\n",
       "      <td>1</td>\n",
       "      <td>25738.42</td>\n",
       "    </tr>\n",
       "  </tbody>\n",
       "</table>\n",
       "<p>5 rows × 57 columns</p>\n",
       "</div>"
      ],
      "text/plain": [
       "   CASEID_7139  COHORTS  PYS_USE_VENN  PSY_USE_YN  PM_USE_YN  PM_USE_ONLY_YN  \\\n",
       "0            1      1.0           1.0         1.0        1.0             1.0   \n",
       "1            2      1.0           1.0         1.0        1.0             1.0   \n",
       "2            3      1.0           1.0         1.0        1.0             1.0   \n",
       "3            4      1.0           1.0         1.0        1.0             1.0   \n",
       "4            5      1.0           1.0         1.0        1.0             1.0   \n",
       "\n",
       "   PM_VS_PSY_YN  SEX   AGE  ETHNICITY  ...  PSY2_UNDIAG_CONCERN  \\\n",
       "0           2.0    0  19.0        3.0  ...                    0   \n",
       "1           2.0    0  21.0        2.0  ...                    1   \n",
       "2           2.0    0  22.0        2.0  ...                    1   \n",
       "3           2.0    0  22.0        2.0  ...                    0   \n",
       "4           2.0    0  23.0        2.0  ...                    1   \n",
       "\n",
       "   PSY2_NO_KNOWLEDGE  PM1_GEN_HEALTH  PM1_DIAG_CONDITION  PM1_UNDIAG_CONCERN  \\\n",
       "0                  0               1                   0                   0   \n",
       "1                  0               1                   0                   0   \n",
       "2                  0               0                   0                   0   \n",
       "3                  0               1                   0                   0   \n",
       "4                  0               1                   0                   0   \n",
       "\n",
       "   PM2_FREQ_COVID  PM3_FREQ_POLITICS  PM4_CARE  INSURANCE  DATA_WEIGHT  \n",
       "0               2                  3         0          0     57772.54  \n",
       "1               3                  3         0          1     25738.42  \n",
       "2               3                  4         0          0     42172.56  \n",
       "3               3                  3         0          1     28356.81  \n",
       "4               3                  3         0          1     25738.42  \n",
       "\n",
       "[5 rows x 57 columns]"
      ]
     },
     "execution_count": 2,
     "metadata": {},
     "output_type": "execute_result"
    }
   ],
   "source": [
    "# Load the dataset into a pandas dataframe\n",
    "df = pd.read_csv('Data/Psychedelic_mushroom_DATA.csv')\n",
    "df.head(5)"
   ]
  },
  {
   "cell_type": "code",
   "execution_count": 3,
   "id": "c09df446",
   "metadata": {},
   "outputs": [
    {
     "data": {
      "text/plain": [
       " 0.0     6613\n",
       "-99.0     404\n",
       " 1.0      122\n",
       "Name: COHORTS, dtype: int64"
      ]
     },
     "execution_count": 3,
     "metadata": {},
     "output_type": "execute_result"
    }
   ],
   "source": [
    "df['COHORTS'].value_counts()"
   ]
  },
  {
   "cell_type": "code",
   "execution_count": 4,
   "id": "11f40211",
   "metadata": {},
   "outputs": [],
   "source": [
    "def labelize(cohort):\n",
    "    if cohort == 0:\n",
    "        return 0\n",
    "    else:\n",
    "        return 1\n",
    "df['PM_use'] = df['COHORTS'].apply(labelize)"
   ]
  },
  {
   "cell_type": "code",
   "execution_count": 5,
   "id": "36174ad3",
   "metadata": {},
   "outputs": [
    {
     "data": {
      "text/html": [
       "<div>\n",
       "<style scoped>\n",
       "    .dataframe tbody tr th:only-of-type {\n",
       "        vertical-align: middle;\n",
       "    }\n",
       "\n",
       "    .dataframe tbody tr th {\n",
       "        vertical-align: top;\n",
       "    }\n",
       "\n",
       "    .dataframe thead th {\n",
       "        text-align: right;\n",
       "    }\n",
       "</style>\n",
       "<table border=\"1\" class=\"dataframe\">\n",
       "  <thead>\n",
       "    <tr style=\"text-align: right;\">\n",
       "      <th></th>\n",
       "      <th>CASEID_7139</th>\n",
       "      <th>COHORTS</th>\n",
       "      <th>PYS_USE_VENN</th>\n",
       "      <th>PSY_USE_YN</th>\n",
       "      <th>PM_USE_YN</th>\n",
       "      <th>PM_USE_ONLY_YN</th>\n",
       "      <th>PM_VS_PSY_YN</th>\n",
       "      <th>SEX</th>\n",
       "      <th>AGE</th>\n",
       "      <th>ETHNICITY</th>\n",
       "      <th>...</th>\n",
       "      <th>PSY2_NO_KNOWLEDGE</th>\n",
       "      <th>PM1_GEN_HEALTH</th>\n",
       "      <th>PM1_DIAG_CONDITION</th>\n",
       "      <th>PM1_UNDIAG_CONCERN</th>\n",
       "      <th>PM2_FREQ_COVID</th>\n",
       "      <th>PM3_FREQ_POLITICS</th>\n",
       "      <th>PM4_CARE</th>\n",
       "      <th>INSURANCE</th>\n",
       "      <th>DATA_WEIGHT</th>\n",
       "      <th>PM_use</th>\n",
       "    </tr>\n",
       "  </thead>\n",
       "  <tbody>\n",
       "    <tr>\n",
       "      <th>0</th>\n",
       "      <td>1</td>\n",
       "      <td>1.0</td>\n",
       "      <td>1.0</td>\n",
       "      <td>1.0</td>\n",
       "      <td>1.0</td>\n",
       "      <td>1.0</td>\n",
       "      <td>2.0</td>\n",
       "      <td>0</td>\n",
       "      <td>19.0</td>\n",
       "      <td>3.0</td>\n",
       "      <td>...</td>\n",
       "      <td>0</td>\n",
       "      <td>1</td>\n",
       "      <td>0</td>\n",
       "      <td>0</td>\n",
       "      <td>2</td>\n",
       "      <td>3</td>\n",
       "      <td>0</td>\n",
       "      <td>0</td>\n",
       "      <td>57772.54</td>\n",
       "      <td>1</td>\n",
       "    </tr>\n",
       "    <tr>\n",
       "      <th>1</th>\n",
       "      <td>2</td>\n",
       "      <td>1.0</td>\n",
       "      <td>1.0</td>\n",
       "      <td>1.0</td>\n",
       "      <td>1.0</td>\n",
       "      <td>1.0</td>\n",
       "      <td>2.0</td>\n",
       "      <td>0</td>\n",
       "      <td>21.0</td>\n",
       "      <td>2.0</td>\n",
       "      <td>...</td>\n",
       "      <td>0</td>\n",
       "      <td>1</td>\n",
       "      <td>0</td>\n",
       "      <td>0</td>\n",
       "      <td>3</td>\n",
       "      <td>3</td>\n",
       "      <td>0</td>\n",
       "      <td>1</td>\n",
       "      <td>25738.42</td>\n",
       "      <td>1</td>\n",
       "    </tr>\n",
       "    <tr>\n",
       "      <th>2</th>\n",
       "      <td>3</td>\n",
       "      <td>1.0</td>\n",
       "      <td>1.0</td>\n",
       "      <td>1.0</td>\n",
       "      <td>1.0</td>\n",
       "      <td>1.0</td>\n",
       "      <td>2.0</td>\n",
       "      <td>0</td>\n",
       "      <td>22.0</td>\n",
       "      <td>2.0</td>\n",
       "      <td>...</td>\n",
       "      <td>0</td>\n",
       "      <td>0</td>\n",
       "      <td>0</td>\n",
       "      <td>0</td>\n",
       "      <td>3</td>\n",
       "      <td>4</td>\n",
       "      <td>0</td>\n",
       "      <td>0</td>\n",
       "      <td>42172.56</td>\n",
       "      <td>1</td>\n",
       "    </tr>\n",
       "    <tr>\n",
       "      <th>3</th>\n",
       "      <td>4</td>\n",
       "      <td>1.0</td>\n",
       "      <td>1.0</td>\n",
       "      <td>1.0</td>\n",
       "      <td>1.0</td>\n",
       "      <td>1.0</td>\n",
       "      <td>2.0</td>\n",
       "      <td>0</td>\n",
       "      <td>22.0</td>\n",
       "      <td>2.0</td>\n",
       "      <td>...</td>\n",
       "      <td>0</td>\n",
       "      <td>1</td>\n",
       "      <td>0</td>\n",
       "      <td>0</td>\n",
       "      <td>3</td>\n",
       "      <td>3</td>\n",
       "      <td>0</td>\n",
       "      <td>1</td>\n",
       "      <td>28356.81</td>\n",
       "      <td>1</td>\n",
       "    </tr>\n",
       "    <tr>\n",
       "      <th>4</th>\n",
       "      <td>5</td>\n",
       "      <td>1.0</td>\n",
       "      <td>1.0</td>\n",
       "      <td>1.0</td>\n",
       "      <td>1.0</td>\n",
       "      <td>1.0</td>\n",
       "      <td>2.0</td>\n",
       "      <td>0</td>\n",
       "      <td>23.0</td>\n",
       "      <td>2.0</td>\n",
       "      <td>...</td>\n",
       "      <td>0</td>\n",
       "      <td>1</td>\n",
       "      <td>0</td>\n",
       "      <td>0</td>\n",
       "      <td>3</td>\n",
       "      <td>3</td>\n",
       "      <td>0</td>\n",
       "      <td>1</td>\n",
       "      <td>25738.42</td>\n",
       "      <td>1</td>\n",
       "    </tr>\n",
       "  </tbody>\n",
       "</table>\n",
       "<p>5 rows × 58 columns</p>\n",
       "</div>"
      ],
      "text/plain": [
       "   CASEID_7139  COHORTS  PYS_USE_VENN  PSY_USE_YN  PM_USE_YN  PM_USE_ONLY_YN  \\\n",
       "0            1      1.0           1.0         1.0        1.0             1.0   \n",
       "1            2      1.0           1.0         1.0        1.0             1.0   \n",
       "2            3      1.0           1.0         1.0        1.0             1.0   \n",
       "3            4      1.0           1.0         1.0        1.0             1.0   \n",
       "4            5      1.0           1.0         1.0        1.0             1.0   \n",
       "\n",
       "   PM_VS_PSY_YN  SEX   AGE  ETHNICITY  ...  PSY2_NO_KNOWLEDGE  PM1_GEN_HEALTH  \\\n",
       "0           2.0    0  19.0        3.0  ...                  0               1   \n",
       "1           2.0    0  21.0        2.0  ...                  0               1   \n",
       "2           2.0    0  22.0        2.0  ...                  0               0   \n",
       "3           2.0    0  22.0        2.0  ...                  0               1   \n",
       "4           2.0    0  23.0        2.0  ...                  0               1   \n",
       "\n",
       "   PM1_DIAG_CONDITION  PM1_UNDIAG_CONCERN  PM2_FREQ_COVID  PM3_FREQ_POLITICS  \\\n",
       "0                   0                   0               2                  3   \n",
       "1                   0                   0               3                  3   \n",
       "2                   0                   0               3                  4   \n",
       "3                   0                   0               3                  3   \n",
       "4                   0                   0               3                  3   \n",
       "\n",
       "   PM4_CARE  INSURANCE  DATA_WEIGHT  PM_use  \n",
       "0         0          0     57772.54       1  \n",
       "1         0          1     25738.42       1  \n",
       "2         0          0     42172.56       1  \n",
       "3         0          1     28356.81       1  \n",
       "4         0          1     25738.42       1  \n",
       "\n",
       "[5 rows x 58 columns]"
      ]
     },
     "execution_count": 5,
     "metadata": {},
     "output_type": "execute_result"
    }
   ],
   "source": [
    "df.head(5)"
   ]
  },
  {
   "cell_type": "code",
   "execution_count": 6,
   "id": "12374aa5",
   "metadata": {
    "scrolled": true
   },
   "outputs": [
    {
     "data": {
      "text/plain": [
       "0    6613\n",
       "1     526\n",
       "Name: PM_use, dtype: int64"
      ]
     },
     "execution_count": 6,
     "metadata": {},
     "output_type": "execute_result"
    }
   ],
   "source": [
    "df['PM_use'].value_counts()"
   ]
  },
  {
   "cell_type": "markdown",
   "id": "3caec9bf",
   "metadata": {},
   "source": [
    "## Chi-squared Test"
   ]
  },
  {
   "cell_type": "code",
   "execution_count": 7,
   "id": "82df87ad",
   "metadata": {},
   "outputs": [],
   "source": [
    "# Top3 important features: PM3_FREQ_POLITICS, PM2_FREQ_COVID, PSY1_POSITIVE_USE"
   ]
  },
  {
   "cell_type": "code",
   "execution_count": 8,
   "id": "7461f3ab",
   "metadata": {},
   "outputs": [
    {
     "name": "stdout",
     "output_type": "stream",
     "text": [
      "PM use value counts before coded:  0.0     6613\n",
      "-99.0     404\n",
      " 1.0      122\n",
      "Name: COHORTS, dtype: int64\n",
      "PM use value counts: 0    6613\n",
      "1     526\n",
      "Name: PM_use, dtype: int64\n",
      "Knowledge of positive use: 3    2242\n",
      "5    1982\n",
      "4    1306\n",
      "2    1039\n",
      "1     570\n",
      "Name: PSY1_POSITIVE_USE, dtype: int64\n"
     ]
    },
    {
     "data": {
      "text/html": [
       "<div>\n",
       "<style scoped>\n",
       "    .dataframe tbody tr th:only-of-type {\n",
       "        vertical-align: middle;\n",
       "    }\n",
       "\n",
       "    .dataframe tbody tr th {\n",
       "        vertical-align: top;\n",
       "    }\n",
       "\n",
       "    .dataframe thead th {\n",
       "        text-align: right;\n",
       "    }\n",
       "</style>\n",
       "<table border=\"1\" class=\"dataframe\">\n",
       "  <thead>\n",
       "    <tr style=\"text-align: right;\">\n",
       "      <th>PM_use</th>\n",
       "      <th>0</th>\n",
       "      <th>1</th>\n",
       "    </tr>\n",
       "    <tr>\n",
       "      <th>PSY1_POSITIVE_USE</th>\n",
       "      <th></th>\n",
       "      <th></th>\n",
       "    </tr>\n",
       "  </thead>\n",
       "  <tbody>\n",
       "    <tr>\n",
       "      <th>1</th>\n",
       "      <td>386</td>\n",
       "      <td>184</td>\n",
       "    </tr>\n",
       "    <tr>\n",
       "      <th>2</th>\n",
       "      <td>826</td>\n",
       "      <td>213</td>\n",
       "    </tr>\n",
       "    <tr>\n",
       "      <th>3</th>\n",
       "      <td>2147</td>\n",
       "      <td>95</td>\n",
       "    </tr>\n",
       "    <tr>\n",
       "      <th>4</th>\n",
       "      <td>1285</td>\n",
       "      <td>21</td>\n",
       "    </tr>\n",
       "    <tr>\n",
       "      <th>5</th>\n",
       "      <td>1969</td>\n",
       "      <td>13</td>\n",
       "    </tr>\n",
       "  </tbody>\n",
       "</table>\n",
       "</div>"
      ],
      "text/plain": [
       "PM_use                0    1\n",
       "PSY1_POSITIVE_USE           \n",
       "1                   386  184\n",
       "2                   826  213\n",
       "3                  2147   95\n",
       "4                  1285   21\n",
       "5                  1969   13"
      ]
     },
     "execution_count": 8,
     "metadata": {},
     "output_type": "execute_result"
    }
   ],
   "source": [
    "# Top3. Knowledge of positive use and PM use\n",
    "print('PM use value counts before coded:', df['COHORTS'].value_counts())\n",
    "print('PM use value counts:', df['PM_use'].value_counts())\n",
    "print('Knowledge of positive use:', df['PSY1_POSITIVE_USE'].value_counts())\n",
    "contigency1 = pd.crosstab(df['PSY1_POSITIVE_USE'], df['PM_use']) \n",
    "contigency1"
   ]
  },
  {
   "cell_type": "code",
   "execution_count": 9,
   "id": "9fb0e3b9",
   "metadata": {},
   "outputs": [
    {
     "data": {
      "text/html": [
       "<div>\n",
       "<style scoped>\n",
       "    .dataframe tbody tr th:only-of-type {\n",
       "        vertical-align: middle;\n",
       "    }\n",
       "\n",
       "    .dataframe tbody tr th {\n",
       "        vertical-align: top;\n",
       "    }\n",
       "\n",
       "    .dataframe thead th {\n",
       "        text-align: right;\n",
       "    }\n",
       "</style>\n",
       "<table border=\"1\" class=\"dataframe\">\n",
       "  <thead>\n",
       "    <tr style=\"text-align: right;\">\n",
       "      <th>PM_use</th>\n",
       "      <th>0</th>\n",
       "      <th>1</th>\n",
       "    </tr>\n",
       "    <tr>\n",
       "      <th>PSY1_POSITIVE_USE</th>\n",
       "      <th></th>\n",
       "      <th></th>\n",
       "    </tr>\n",
       "  </thead>\n",
       "  <tbody>\n",
       "    <tr>\n",
       "      <th>1</th>\n",
       "      <td>0.058370</td>\n",
       "      <td>0.349810</td>\n",
       "    </tr>\n",
       "    <tr>\n",
       "      <th>2</th>\n",
       "      <td>0.124905</td>\n",
       "      <td>0.404943</td>\n",
       "    </tr>\n",
       "    <tr>\n",
       "      <th>3</th>\n",
       "      <td>0.324664</td>\n",
       "      <td>0.180608</td>\n",
       "    </tr>\n",
       "    <tr>\n",
       "      <th>4</th>\n",
       "      <td>0.194314</td>\n",
       "      <td>0.039924</td>\n",
       "    </tr>\n",
       "    <tr>\n",
       "      <th>5</th>\n",
       "      <td>0.297747</td>\n",
       "      <td>0.024715</td>\n",
       "    </tr>\n",
       "  </tbody>\n",
       "</table>\n",
       "</div>"
      ],
      "text/plain": [
       "PM_use                    0         1\n",
       "PSY1_POSITIVE_USE                    \n",
       "1                  0.058370  0.349810\n",
       "2                  0.124905  0.404943\n",
       "3                  0.324664  0.180608\n",
       "4                  0.194314  0.039924\n",
       "5                  0.297747  0.024715"
      ]
     },
     "execution_count": 9,
     "metadata": {},
     "output_type": "execute_result"
    }
   ],
   "source": [
    "contigency1_pct = pd.crosstab(df['PSY1_POSITIVE_USE'], df['PM_use'], normalize='columns')\n",
    "contigency1_pct"
   ]
  },
  {
   "cell_type": "code",
   "execution_count": 10,
   "id": "44fde649",
   "metadata": {
    "scrolled": true
   },
   "outputs": [
    {
     "data": {
      "text/plain": [
       "<Axes: xlabel='PM_use', ylabel='PSY1_POSITIVE_USE'>"
      ]
     },
     "execution_count": 10,
     "metadata": {},
     "output_type": "execute_result"
    },
    {
     "data": {
      "image/png": "[encoded data removed]",
      "text/plain": [
       "<Figure size 600x400 with 2 Axes>"
      ]
     },
     "metadata": {},
     "output_type": "display_data"
    }
   ],
   "source": [
    "# plot a heatmap\n",
    "plt.figure(figsize=(6, 4)) \n",
    "sns.heatmap(contigency1_pct, annot=True, cmap=\"YlGnBu\")"
   ]
  },
  {
   "cell_type": "code",
   "execution_count": 11,
   "id": "5265f1f2",
   "metadata": {},
   "outputs": [
    {
     "name": "stdout",
     "output_type": "stream",
     "text": [
      "chi2 value: 1007.3879509545408\n",
      "p-value: 8.943633683269309e-217\n",
      "degree of freedom: 4\n",
      "the expected frequencies: [[ 528.00252136   41.99747864]\n",
      " [ 962.44670122   76.55329878]\n",
      " [2076.80991736  165.19008264]\n",
      " [1209.77419807   96.22580193]\n",
      " [1835.966662    146.033338  ]]\n",
      "Dependent (reject H0)\n"
     ]
    }
   ],
   "source": [
    "# Chi-square test of independence:\n",
    "# chi2: The test statistic\n",
    "# p: The p-value of the test\n",
    "# dof: Degrees of freedom\n",
    "# expected: The expected frequencies, based on the marginal sums of the table\n",
    "\n",
    "from scipy.stats import chi2_contingency\n",
    "chi2, p, dof, expected = chi2_contingency(contigency1) \n",
    "\n",
    "# Print all the values\n",
    "print(\"chi2 value:\", chi2)\n",
    "print(\"p-value:\", p)\n",
    "print(\"degree of freedom:\", dof)\n",
    "print(\"the expected frequencies:\", expected)\n",
    "\n",
    "# interpret p-value\n",
    "alpha = 0.05\n",
    "if p <= alpha:\n",
    "    print('Dependent (reject H0)')\n",
    "else:\n",
    "    print('Independent (H0 holds true)')"
   ]
  },
  {
   "cell_type": "code",
   "execution_count": 12,
   "id": "2e5750d9",
   "metadata": {},
   "outputs": [
    {
     "name": "stdout",
     "output_type": "stream",
     "text": [
      "PM use value counts before coded:  0.0     6613\n",
      "-99.0     404\n",
      " 1.0      122\n",
      "Name: COHORTS, dtype: int64\n",
      "PM use value counts: 0    6613\n",
      "1     526\n",
      "Name: PM_use, dtype: int64\n",
      "Politics factor: -99    6883\n",
      " 3      175\n",
      " 1       45\n",
      " 2       34\n",
      " 4        2\n",
      "Name: PM3_FREQ_POLITICS, dtype: int64\n"
     ]
    },
    {
     "data": {
      "text/html": [
       "<div>\n",
       "<style scoped>\n",
       "    .dataframe tbody tr th:only-of-type {\n",
       "        vertical-align: middle;\n",
       "    }\n",
       "\n",
       "    .dataframe tbody tr th {\n",
       "        vertical-align: top;\n",
       "    }\n",
       "\n",
       "    .dataframe thead th {\n",
       "        text-align: right;\n",
       "    }\n",
       "</style>\n",
       "<table border=\"1\" class=\"dataframe\">\n",
       "  <thead>\n",
       "    <tr style=\"text-align: right;\">\n",
       "      <th>PM_use</th>\n",
       "      <th>0</th>\n",
       "      <th>1</th>\n",
       "    </tr>\n",
       "    <tr>\n",
       "      <th>PM3_FREQ_POLITICS</th>\n",
       "      <th></th>\n",
       "      <th></th>\n",
       "    </tr>\n",
       "  </thead>\n",
       "  <tbody>\n",
       "    <tr>\n",
       "      <th>-99</th>\n",
       "      <td>6613</td>\n",
       "      <td>270</td>\n",
       "    </tr>\n",
       "    <tr>\n",
       "      <th>1</th>\n",
       "      <td>0</td>\n",
       "      <td>45</td>\n",
       "    </tr>\n",
       "    <tr>\n",
       "      <th>2</th>\n",
       "      <td>0</td>\n",
       "      <td>34</td>\n",
       "    </tr>\n",
       "    <tr>\n",
       "      <th>3</th>\n",
       "      <td>0</td>\n",
       "      <td>175</td>\n",
       "    </tr>\n",
       "    <tr>\n",
       "      <th>4</th>\n",
       "      <td>0</td>\n",
       "      <td>2</td>\n",
       "    </tr>\n",
       "  </tbody>\n",
       "</table>\n",
       "</div>"
      ],
      "text/plain": [
       "PM_use                0    1\n",
       "PM3_FREQ_POLITICS           \n",
       "-99                6613  270\n",
       " 1                    0   45\n",
       " 2                    0   34\n",
       " 3                    0  175\n",
       " 4                    0    2"
      ]
     },
     "execution_count": 12,
     "metadata": {},
     "output_type": "execute_result"
    }
   ],
   "source": [
    "# Top1. Political factor and PM use\n",
    "print('PM use value counts before coded:', df['COHORTS'].value_counts())\n",
    "print('PM use value counts:', df['PM_use'].value_counts())\n",
    "print('Politics factor:', df['PM3_FREQ_POLITICS'].value_counts())\n",
    "contigency2 = pd.crosstab(df['PM3_FREQ_POLITICS'], df['PM_use']) \n",
    "contigency2"
   ]
  },
  {
   "cell_type": "code",
   "execution_count": 13,
   "id": "8b3b2aa3",
   "metadata": {},
   "outputs": [
    {
     "data": {
      "text/html": [
       "<div>\n",
       "<style scoped>\n",
       "    .dataframe tbody tr th:only-of-type {\n",
       "        vertical-align: middle;\n",
       "    }\n",
       "\n",
       "    .dataframe tbody tr th {\n",
       "        vertical-align: top;\n",
       "    }\n",
       "\n",
       "    .dataframe thead th {\n",
       "        text-align: right;\n",
       "    }\n",
       "</style>\n",
       "<table border=\"1\" class=\"dataframe\">\n",
       "  <thead>\n",
       "    <tr style=\"text-align: right;\">\n",
       "      <th>PM_use</th>\n",
       "      <th>0</th>\n",
       "      <th>1</th>\n",
       "    </tr>\n",
       "    <tr>\n",
       "      <th>PM3_FREQ_POLITICS</th>\n",
       "      <th></th>\n",
       "      <th></th>\n",
       "    </tr>\n",
       "  </thead>\n",
       "  <tbody>\n",
       "    <tr>\n",
       "      <th>-99</th>\n",
       "      <td>1.0</td>\n",
       "      <td>0.513308</td>\n",
       "    </tr>\n",
       "    <tr>\n",
       "      <th>1</th>\n",
       "      <td>0.0</td>\n",
       "      <td>0.085551</td>\n",
       "    </tr>\n",
       "    <tr>\n",
       "      <th>2</th>\n",
       "      <td>0.0</td>\n",
       "      <td>0.064639</td>\n",
       "    </tr>\n",
       "    <tr>\n",
       "      <th>3</th>\n",
       "      <td>0.0</td>\n",
       "      <td>0.332700</td>\n",
       "    </tr>\n",
       "    <tr>\n",
       "      <th>4</th>\n",
       "      <td>0.0</td>\n",
       "      <td>0.003802</td>\n",
       "    </tr>\n",
       "  </tbody>\n",
       "</table>\n",
       "</div>"
      ],
      "text/plain": [
       "PM_use               0         1\n",
       "PM3_FREQ_POLITICS               \n",
       "-99                1.0  0.513308\n",
       " 1                 0.0  0.085551\n",
       " 2                 0.0  0.064639\n",
       " 3                 0.0  0.332700\n",
       " 4                 0.0  0.003802"
      ]
     },
     "execution_count": 13,
     "metadata": {},
     "output_type": "execute_result"
    }
   ],
   "source": [
    "contigency2_pct = pd.crosstab(df['PM3_FREQ_POLITICS'], df['PM_use'], normalize='columns')\n",
    "contigency2_pct"
   ]
  },
  {
   "cell_type": "code",
   "execution_count": 14,
   "id": "36cd1851",
   "metadata": {},
   "outputs": [
    {
     "data": {
      "text/plain": [
       "<Axes: xlabel='PM_use', ylabel='PM3_FREQ_POLITICS'>"
      ]
     },
     "execution_count": 14,
     "metadata": {},
     "output_type": "execute_result"
    },
    {
     "data": {
      "image/png": "[encoded data removed]",
      "text/plain": [
       "<Figure size 600x400 with 2 Axes>"
      ]
     },
     "metadata": {},
     "output_type": "display_data"
    }
   ],
   "source": [
    "# plot a heatmap\n",
    "plt.figure(figsize=(6, 4)) \n",
    "sns.heatmap(contigency2_pct, annot=True, cmap=\"YlGnBu\")"
   ]
  },
  {
   "cell_type": "code",
   "execution_count": 15,
   "id": "89e4b171",
   "metadata": {
    "scrolled": true
   },
   "outputs": [
    {
     "name": "stdout",
     "output_type": "stream",
     "text": [
      "chi2 value: 3338.2000266264654\n",
      "p-value: 0.0\n",
      "degree of freedom: 4\n",
      "the expected frequencies: [[6.37586203e+03 5.07137975e+02]\n",
      " [4.16844096e+01 3.31559042e+00]\n",
      " [3.14948872e+01 2.50511276e+00]\n",
      " [1.62106037e+02 1.28939627e+01]\n",
      " [1.85264043e+00 1.47359574e-01]]\n",
      "Dependent (reject H0)\n"
     ]
    }
   ],
   "source": [
    "chi2_2, p_2, dof_2, expected_2 = chi2_contingency(contigency2) \n",
    "\n",
    "# Print all the values\n",
    "print(\"chi2 value:\", chi2_2)\n",
    "print(\"p-value:\", p_2)\n",
    "print(\"degree of freedom:\", dof_2)\n",
    "print(\"the expected frequencies:\", expected_2)\n",
    "\n",
    "# interpret p-value\n",
    "alpha = 0.05\n",
    "if p_2 <= alpha:\n",
    "    print('Dependent (reject H0)')\n",
    "else:\n",
    "    print('Independent (H0 holds true)')"
   ]
  },
  {
   "cell_type": "code",
   "execution_count": 16,
   "id": "c8078415",
   "metadata": {
    "scrolled": true
   },
   "outputs": [
    {
     "name": "stdout",
     "output_type": "stream",
     "text": [
      "PM use value counts before coded:  0.0     6613\n",
      "-99.0     404\n",
      " 1.0      122\n",
      "Name: COHORTS, dtype: int64\n",
      "PM use value counts: 0    6613\n",
      "1     526\n",
      "Name: PM_use, dtype: int64\n",
      "Covid factor: -99    6883\n",
      " 3      161\n",
      " 1       49\n",
      " 2       44\n",
      " 4        2\n",
      "Name: PM2_FREQ_COVID, dtype: int64\n"
     ]
    },
    {
     "data": {
      "text/html": [
       "<div>\n",
       "<style scoped>\n",
       "    .dataframe tbody tr th:only-of-type {\n",
       "        vertical-align: middle;\n",
       "    }\n",
       "\n",
       "    .dataframe tbody tr th {\n",
       "        vertical-align: top;\n",
       "    }\n",
       "\n",
       "    .dataframe thead th {\n",
       "        text-align: right;\n",
       "    }\n",
       "</style>\n",
       "<table border=\"1\" class=\"dataframe\">\n",
       "  <thead>\n",
       "    <tr style=\"text-align: right;\">\n",
       "      <th>PM_use</th>\n",
       "      <th>0</th>\n",
       "      <th>1</th>\n",
       "    </tr>\n",
       "    <tr>\n",
       "      <th>PM2_FREQ_COVID</th>\n",
       "      <th></th>\n",
       "      <th></th>\n",
       "    </tr>\n",
       "  </thead>\n",
       "  <tbody>\n",
       "    <tr>\n",
       "      <th>-99</th>\n",
       "      <td>6613</td>\n",
       "      <td>270</td>\n",
       "    </tr>\n",
       "    <tr>\n",
       "      <th>1</th>\n",
       "      <td>0</td>\n",
       "      <td>49</td>\n",
       "    </tr>\n",
       "    <tr>\n",
       "      <th>2</th>\n",
       "      <td>0</td>\n",
       "      <td>44</td>\n",
       "    </tr>\n",
       "    <tr>\n",
       "      <th>3</th>\n",
       "      <td>0</td>\n",
       "      <td>161</td>\n",
       "    </tr>\n",
       "    <tr>\n",
       "      <th>4</th>\n",
       "      <td>0</td>\n",
       "      <td>2</td>\n",
       "    </tr>\n",
       "  </tbody>\n",
       "</table>\n",
       "</div>"
      ],
      "text/plain": [
       "PM_use             0    1\n",
       "PM2_FREQ_COVID           \n",
       "-99             6613  270\n",
       " 1                 0   49\n",
       " 2                 0   44\n",
       " 3                 0  161\n",
       " 4                 0    2"
      ]
     },
     "execution_count": 16,
     "metadata": {},
     "output_type": "execute_result"
    }
   ],
   "source": [
    "# Top2. Covid factor and PM use\n",
    "print('PM use value counts before coded:', df['COHORTS'].value_counts())\n",
    "print('PM use value counts:', df['PM_use'].value_counts())\n",
    "print('Covid factor:', df['PM2_FREQ_COVID'].value_counts())\n",
    "contigency3 = pd.crosstab(df['PM2_FREQ_COVID'], df['PM_use']) \n",
    "contigency3"
   ]
  },
  {
   "cell_type": "code",
   "execution_count": 17,
   "id": "7ddf12ed",
   "metadata": {
    "scrolled": true
   },
   "outputs": [
    {
     "data": {
      "text/html": [
       "<div>\n",
       "<style scoped>\n",
       "    .dataframe tbody tr th:only-of-type {\n",
       "        vertical-align: middle;\n",
       "    }\n",
       "\n",
       "    .dataframe tbody tr th {\n",
       "        vertical-align: top;\n",
       "    }\n",
       "\n",
       "    .dataframe thead th {\n",
       "        text-align: right;\n",
       "    }\n",
       "</style>\n",
       "<table border=\"1\" class=\"dataframe\">\n",
       "  <thead>\n",
       "    <tr style=\"text-align: right;\">\n",
       "      <th>PM_use</th>\n",
       "      <th>0</th>\n",
       "      <th>1</th>\n",
       "    </tr>\n",
       "    <tr>\n",
       "      <th>PM2_FREQ_COVID</th>\n",
       "      <th></th>\n",
       "      <th></th>\n",
       "    </tr>\n",
       "  </thead>\n",
       "  <tbody>\n",
       "    <tr>\n",
       "      <th>-99</th>\n",
       "      <td>1.0</td>\n",
       "      <td>0.513308</td>\n",
       "    </tr>\n",
       "    <tr>\n",
       "      <th>1</th>\n",
       "      <td>0.0</td>\n",
       "      <td>0.093156</td>\n",
       "    </tr>\n",
       "    <tr>\n",
       "      <th>2</th>\n",
       "      <td>0.0</td>\n",
       "      <td>0.083650</td>\n",
       "    </tr>\n",
       "    <tr>\n",
       "      <th>3</th>\n",
       "      <td>0.0</td>\n",
       "      <td>0.306084</td>\n",
       "    </tr>\n",
       "    <tr>\n",
       "      <th>4</th>\n",
       "      <td>0.0</td>\n",
       "      <td>0.003802</td>\n",
       "    </tr>\n",
       "  </tbody>\n",
       "</table>\n",
       "</div>"
      ],
      "text/plain": [
       "PM_use            0         1\n",
       "PM2_FREQ_COVID               \n",
       "-99             1.0  0.513308\n",
       " 1              0.0  0.093156\n",
       " 2              0.0  0.083650\n",
       " 3              0.0  0.306084\n",
       " 4              0.0  0.003802"
      ]
     },
     "execution_count": 17,
     "metadata": {},
     "output_type": "execute_result"
    }
   ],
   "source": [
    "contigency3_pct = pd.crosstab(df['PM2_FREQ_COVID'], df['PM_use'], normalize='columns')\n",
    "contigency3_pct"
   ]
  },
  {
   "cell_type": "code",
   "execution_count": 18,
   "id": "3e34c1e0",
   "metadata": {
    "scrolled": true
   },
   "outputs": [
    {
     "data": {
      "text/plain": [
       "<Axes: xlabel='PM_use', ylabel='PM2_FREQ_COVID'>"
      ]
     },
     "execution_count": 18,
     "metadata": {},
     "output_type": "execute_result"
    },
    {
     "data": {
      "image/png": "[encoded data removed]",
      "text/plain": [
       "<Figure size 600x400 with 2 Axes>"
      ]
     },
     "metadata": {},
     "output_type": "display_data"
    }
   ],
   "source": [
    "# plot a heatmap\n",
    "plt.figure(figsize=(6, 4)) \n",
    "sns.heatmap(contigency3_pct, annot=True, cmap=\"YlGnBu\")"
   ]
  },
  {
   "cell_type": "code",
   "execution_count": 19,
   "id": "6e14f206",
   "metadata": {
    "scrolled": true
   },
   "outputs": [
    {
     "name": "stdout",
     "output_type": "stream",
     "text": [
      "chi2 value: 3338.2000266264654\n",
      "p-value: 0.0\n",
      "degree of freedom: 4\n",
      "the expected frequencies: [[6.37586203e+03 5.07137975e+02]\n",
      " [4.53896904e+01 3.61030957e+00]\n",
      " [4.07580894e+01 3.24191063e+00]\n",
      " [1.49137554e+02 1.18624457e+01]\n",
      " [1.85264043e+00 1.47359574e-01]]\n",
      "Dependent (reject H0)\n"
     ]
    }
   ],
   "source": [
    "chi2_3, p_3, dof_3, expected_3 = chi2_contingency(contigency3) \n",
    "\n",
    "# Print all the values\n",
    "print(\"chi2 value:\", chi2_3)\n",
    "print(\"p-value:\", p_3)\n",
    "print(\"degree of freedom:\", dof_3)\n",
    "print(\"the expected frequencies:\", expected_3)\n",
    "\n",
    "# interpret p-value\n",
    "alpha = 0.05\n",
    "if p_3 <= alpha:\n",
    "    print('Dependent (reject H0)')\n",
    "else:\n",
    "    print('Independent (H0 holds true)')"
   ]
  },
  {
   "cell_type": "code",
   "execution_count": null,
   "id": "a19bf61d",
   "metadata": {},
   "outputs": [],
   "source": []
  }
 ],
 "metadata": {
  "kernelspec": {
   "display_name": "Python 3 (ipykernel)",
   "language": "python",
   "name": "python3"
  },
  "language_info": {
   "codemirror_mode": {
    "name": "ipython",
    "version": 3
   },
   "file_extension": ".py",
   "mimetype": "text/x-python",
   "name": "python",
   "nbconvert_exporter": "python",
   "pygments_lexer": "ipython3",
   "version": "3.10.9"
  }
 },
 "nbformat": 4,
 "nbformat_minor": 5
}
